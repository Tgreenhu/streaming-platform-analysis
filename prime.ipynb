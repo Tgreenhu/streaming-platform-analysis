{
 "cells": [
  {
   "cell_type": "code",
   "execution_count": 1,
   "metadata": {},
   "outputs": [],
   "source": [
    "import os\n",
    "import csv\n",
    "import pandas as pd\n",
    "import matplotlib.pyplot as plt"
   ]
  },
  {
   "cell_type": "code",
   "execution_count": 2,
   "metadata": {},
   "outputs": [
    {
     "data": {
      "text/html": [
       "<div>\n",
       "<style scoped>\n",
       "    .dataframe tbody tr th:only-of-type {\n",
       "        vertical-align: middle;\n",
       "    }\n",
       "\n",
       "    .dataframe tbody tr th {\n",
       "        vertical-align: top;\n",
       "    }\n",
       "\n",
       "    .dataframe thead th {\n",
       "        text-align: right;\n",
       "    }\n",
       "</style>\n",
       "<table border=\"1\" class=\"dataframe\">\n",
       "  <thead>\n",
       "    <tr style=\"text-align: right;\">\n",
       "      <th></th>\n",
       "      <th>Year</th>\n",
       "      <th>Age</th>\n",
       "      <th>IMDB</th>\n",
       "      <th>Rotten Tomatoes</th>\n",
       "    </tr>\n",
       "    <tr>\n",
       "      <th>Title</th>\n",
       "      <th></th>\n",
       "      <th></th>\n",
       "      <th></th>\n",
       "      <th></th>\n",
       "    </tr>\n",
       "  </thead>\n",
       "  <tbody>\n",
       "    <tr>\n",
       "      <th>Parks and Recreation</th>\n",
       "      <td>2009</td>\n",
       "      <td>16+</td>\n",
       "      <td>8.6</td>\n",
       "      <td>93%</td>\n",
       "    </tr>\n",
       "    <tr>\n",
       "      <th>Star Trek: The Next Generation</th>\n",
       "      <td>1987</td>\n",
       "      <td>7+</td>\n",
       "      <td>8.6</td>\n",
       "      <td>89%</td>\n",
       "    </tr>\n",
       "    <tr>\n",
       "      <th>The Good Wife</th>\n",
       "      <td>2009</td>\n",
       "      <td>16+</td>\n",
       "      <td>8.3</td>\n",
       "      <td>94%</td>\n",
       "    </tr>\n",
       "    <tr>\n",
       "      <th>Schitt's Creek</th>\n",
       "      <td>2015</td>\n",
       "      <td>16+</td>\n",
       "      <td>8.4</td>\n",
       "      <td>50%</td>\n",
       "    </tr>\n",
       "    <tr>\n",
       "      <th>Burn Notice</th>\n",
       "      <td>2007</td>\n",
       "      <td>7+</td>\n",
       "      <td>7.9</td>\n",
       "      <td>88%</td>\n",
       "    </tr>\n",
       "  </tbody>\n",
       "</table>\n",
       "</div>"
      ],
      "text/plain": [
       "                                Year  Age  IMDB Rotten Tomatoes\n",
       "Title                                                          \n",
       "Parks and Recreation            2009  16+   8.6             93%\n",
       "Star Trek: The Next Generation  1987   7+   8.6             89%\n",
       "The Good Wife                   2009  16+   8.3             94%\n",
       "Schitt's Creek                  2015  16+   8.4             50%\n",
       "Burn Notice                     2007   7+   7.9             88%"
      ]
     },
     "execution_count": 2,
     "metadata": {},
     "output_type": "execute_result"
    }
   ],
   "source": [
    "prime_df = pd.read_csv(\"Resources/prime.csv\")\n",
    "prime_df = prime_df.set_index('Title')\n",
    "prime_df.head()"
   ]
  },
  {
   "cell_type": "code",
   "execution_count": 3,
   "metadata": {},
   "outputs": [
    {
     "data": {
      "text/plain": [
       "7.1798010711553095"
      ]
     },
     "execution_count": 3,
     "metadata": {},
     "output_type": "execute_result"
    }
   ],
   "source": [
    "imdb_average = prime_df['IMDB'].mean()\n",
    "imdb_average"
   ]
  },
  {
   "cell_type": "code",
   "execution_count": 4,
   "metadata": {},
   "outputs": [
    {
     "data": {
      "text/html": [
       "<div>\n",
       "<style scoped>\n",
       "    .dataframe tbody tr th:only-of-type {\n",
       "        vertical-align: middle;\n",
       "    }\n",
       "\n",
       "    .dataframe tbody tr th {\n",
       "        vertical-align: top;\n",
       "    }\n",
       "\n",
       "    .dataframe thead th {\n",
       "        text-align: right;\n",
       "    }\n",
       "</style>\n",
       "<table border=\"1\" class=\"dataframe\">\n",
       "  <thead>\n",
       "    <tr style=\"text-align: right;\">\n",
       "      <th></th>\n",
       "      <th>Year</th>\n",
       "      <th>Age</th>\n",
       "      <th>IMDB</th>\n",
       "      <th>Rotten Tomatoes</th>\n",
       "    </tr>\n",
       "    <tr>\n",
       "      <th>Title</th>\n",
       "      <th></th>\n",
       "      <th></th>\n",
       "      <th></th>\n",
       "      <th></th>\n",
       "    </tr>\n",
       "  </thead>\n",
       "  <tbody>\n",
       "    <tr>\n",
       "      <th>Parks and Recreation</th>\n",
       "      <td>2009</td>\n",
       "      <td>16+</td>\n",
       "      <td>8.6</td>\n",
       "      <td>93%</td>\n",
       "    </tr>\n",
       "    <tr>\n",
       "      <th>Star Trek: The Next Generation</th>\n",
       "      <td>1987</td>\n",
       "      <td>7+</td>\n",
       "      <td>8.6</td>\n",
       "      <td>89%</td>\n",
       "    </tr>\n",
       "    <tr>\n",
       "      <th>The Good Wife</th>\n",
       "      <td>2009</td>\n",
       "      <td>16+</td>\n",
       "      <td>8.3</td>\n",
       "      <td>94%</td>\n",
       "    </tr>\n",
       "    <tr>\n",
       "      <th>Schitt's Creek</th>\n",
       "      <td>2015</td>\n",
       "      <td>16+</td>\n",
       "      <td>8.4</td>\n",
       "      <td>50%</td>\n",
       "    </tr>\n",
       "    <tr>\n",
       "      <th>Burn Notice</th>\n",
       "      <td>2007</td>\n",
       "      <td>7+</td>\n",
       "      <td>7.9</td>\n",
       "      <td>88%</td>\n",
       "    </tr>\n",
       "  </tbody>\n",
       "</table>\n",
       "</div>"
      ],
      "text/plain": [
       "                                Year  Age  IMDB Rotten Tomatoes\n",
       "Title                                                          \n",
       "Parks and Recreation            2009  16+   8.6             93%\n",
       "Star Trek: The Next Generation  1987   7+   8.6             89%\n",
       "The Good Wife                   2009  16+   8.3             94%\n",
       "Schitt's Creek                  2015  16+   8.4             50%\n",
       "Burn Notice                     2007   7+   7.9             88%"
      ]
     },
     "execution_count": 4,
     "metadata": {},
     "output_type": "execute_result"
    }
   ],
   "source": [
    "prime_df_dropped = prime_df.dropna()\n",
    "prime_df_dropped.head()"
   ]
  },
  {
   "cell_type": "code",
   "execution_count": 5,
   "metadata": {},
   "outputs": [
    {
     "name": "stderr",
     "output_type": "stream",
     "text": [
      "<ipython-input-5-46ffd2c0624c>:1: SettingWithCopyWarning: \n",
      "A value is trying to be set on a copy of a slice from a DataFrame.\n",
      "Try using .loc[row_indexer,col_indexer] = value instead\n",
      "\n",
      "See the caveats in the documentation: https://pandas.pydata.org/pandas-docs/stable/user_guide/indexing.html#returning-a-view-versus-a-copy\n",
      "  prime_df_dropped['RT'] = prime_df_dropped['Rotten Tomatoes'].str.extract('(\\d+)').astype(int)\n"
     ]
    },
    {
     "data": {
      "text/html": [
       "<div>\n",
       "<style scoped>\n",
       "    .dataframe tbody tr th:only-of-type {\n",
       "        vertical-align: middle;\n",
       "    }\n",
       "\n",
       "    .dataframe tbody tr th {\n",
       "        vertical-align: top;\n",
       "    }\n",
       "\n",
       "    .dataframe thead th {\n",
       "        text-align: right;\n",
       "    }\n",
       "</style>\n",
       "<table border=\"1\" class=\"dataframe\">\n",
       "  <thead>\n",
       "    <tr style=\"text-align: right;\">\n",
       "      <th></th>\n",
       "      <th>Year</th>\n",
       "      <th>Age</th>\n",
       "      <th>IMDB</th>\n",
       "      <th>Rotten Tomatoes</th>\n",
       "      <th>RT</th>\n",
       "    </tr>\n",
       "    <tr>\n",
       "      <th>Title</th>\n",
       "      <th></th>\n",
       "      <th></th>\n",
       "      <th></th>\n",
       "      <th></th>\n",
       "      <th></th>\n",
       "    </tr>\n",
       "  </thead>\n",
       "  <tbody>\n",
       "    <tr>\n",
       "      <th>Parks and Recreation</th>\n",
       "      <td>2009</td>\n",
       "      <td>16+</td>\n",
       "      <td>8.6</td>\n",
       "      <td>93%</td>\n",
       "      <td>93</td>\n",
       "    </tr>\n",
       "    <tr>\n",
       "      <th>Star Trek: The Next Generation</th>\n",
       "      <td>1987</td>\n",
       "      <td>7+</td>\n",
       "      <td>8.6</td>\n",
       "      <td>89%</td>\n",
       "      <td>89</td>\n",
       "    </tr>\n",
       "    <tr>\n",
       "      <th>The Good Wife</th>\n",
       "      <td>2009</td>\n",
       "      <td>16+</td>\n",
       "      <td>8.3</td>\n",
       "      <td>94%</td>\n",
       "      <td>94</td>\n",
       "    </tr>\n",
       "    <tr>\n",
       "      <th>Schitt's Creek</th>\n",
       "      <td>2015</td>\n",
       "      <td>16+</td>\n",
       "      <td>8.4</td>\n",
       "      <td>50%</td>\n",
       "      <td>50</td>\n",
       "    </tr>\n",
       "    <tr>\n",
       "      <th>Burn Notice</th>\n",
       "      <td>2007</td>\n",
       "      <td>7+</td>\n",
       "      <td>7.9</td>\n",
       "      <td>88%</td>\n",
       "      <td>88</td>\n",
       "    </tr>\n",
       "  </tbody>\n",
       "</table>\n",
       "</div>"
      ],
      "text/plain": [
       "                                Year  Age  IMDB Rotten Tomatoes  RT\n",
       "Title                                                              \n",
       "Parks and Recreation            2009  16+   8.6             93%  93\n",
       "Star Trek: The Next Generation  1987   7+   8.6             89%  89\n",
       "The Good Wife                   2009  16+   8.3             94%  94\n",
       "Schitt's Creek                  2015  16+   8.4             50%  50\n",
       "Burn Notice                     2007   7+   7.9             88%  88"
      ]
     },
     "execution_count": 5,
     "metadata": {},
     "output_type": "execute_result"
    }
   ],
   "source": [
    "prime_df_dropped['RT'] = prime_df_dropped['Rotten Tomatoes'].str.extract('(\\d+)').astype(int)\n",
    "prime_df_dropped.head()"
   ]
  },
  {
   "cell_type": "code",
   "execution_count": 6,
   "metadata": {},
   "outputs": [],
   "source": [
    "rotten_average = prime_df_dropped['RT'].mean()\n",
    "age_group = prime_df['Age'].mode()\n",
    "total_shows = len(prime_df)\n",
    "title = prime_df.index.to_list()"
   ]
  },
  {
   "cell_type": "code",
   "execution_count": 7,
   "metadata": {},
   "outputs": [],
   "source": [
    "prime_df.sort_values(by=['IMDB'], inplace=True, ascending=False)\n",
    "highest_rated_imdb = prime_df.index[0]"
   ]
  },
  {
   "cell_type": "code",
   "execution_count": 8,
   "metadata": {},
   "outputs": [
    {
     "name": "stderr",
     "output_type": "stream",
     "text": [
      "<ipython-input-8-faa3d075bcf9>:1: SettingWithCopyWarning: \n",
      "A value is trying to be set on a copy of a slice from a DataFrame\n",
      "\n",
      "See the caveats in the documentation: https://pandas.pydata.org/pandas-docs/stable/user_guide/indexing.html#returning-a-view-versus-a-copy\n",
      "  prime_df_dropped.sort_values(by=['RT', 'IMDB'], inplace=True, ascending=False)\n"
     ]
    },
    {
     "data": {
      "text/plain": [
       "'The Planets'"
      ]
     },
     "execution_count": 8,
     "metadata": {},
     "output_type": "execute_result"
    }
   ],
   "source": [
    "prime_df_dropped.sort_values(by=['RT', 'IMDB'], inplace=True, ascending=False)\n",
    "prime_df_dropped.head(100)\n",
    "highest_rated_rt = prime_df_dropped.index[0]\n",
    "highest_rated_rt"
   ]
  },
  {
   "cell_type": "code",
   "execution_count": 9,
   "metadata": {},
   "outputs": [
    {
     "data": {
      "text/html": [
       "<div>\n",
       "<style scoped>\n",
       "    .dataframe tbody tr th:only-of-type {\n",
       "        vertical-align: middle;\n",
       "    }\n",
       "\n",
       "    .dataframe tbody tr th {\n",
       "        vertical-align: top;\n",
       "    }\n",
       "\n",
       "    .dataframe thead th {\n",
       "        text-align: right;\n",
       "    }\n",
       "</style>\n",
       "<table border=\"1\" class=\"dataframe\">\n",
       "  <thead>\n",
       "    <tr style=\"text-align: right;\">\n",
       "      <th></th>\n",
       "      <th>Total Number of Shows</th>\n",
       "      <th>Most Popular Age Group</th>\n",
       "      <th>Highest Rated IMDB</th>\n",
       "      <th>IMDB Average</th>\n",
       "      <th>Highest Rated RT</th>\n",
       "      <th>Rotten Tomatoes</th>\n",
       "    </tr>\n",
       "  </thead>\n",
       "  <tbody>\n",
       "    <tr>\n",
       "      <th>0</th>\n",
       "      <td>2144</td>\n",
       "      <td>7+</td>\n",
       "      <td>Malgudi Days</td>\n",
       "      <td>7.179801</td>\n",
       "      <td>The Planets</td>\n",
       "      <td>77.212264</td>\n",
       "    </tr>\n",
       "  </tbody>\n",
       "</table>\n",
       "</div>"
      ],
      "text/plain": [
       "   Total Number of Shows Most Popular Age Group Highest Rated IMDB  \\\n",
       "0                   2144                     7+       Malgudi Days   \n",
       "\n",
       "   IMDB Average Highest Rated RT  Rotten Tomatoes  \n",
       "0      7.179801      The Planets        77.212264  "
      ]
     },
     "execution_count": 9,
     "metadata": {},
     "output_type": "execute_result"
    }
   ],
   "source": [
    "prime = pd.DataFrame({'Total Number of Shows': total_shows,\n",
    "                        'Most Popular Age Group': age_group,\n",
    "                        'Highest Rated IMDB': highest_rated_imdb,\n",
    "                        'IMDB Average': imdb_average,\n",
    "                        'Highest Rated RT': highest_rated_rt,\n",
    "                        'Rotten Tomatoes': rotten_average})\n",
    "prime"
   ]
  },
  {
   "cell_type": "code",
   "execution_count": 10,
   "metadata": {},
   "outputs": [
    {
     "data": {
      "text/plain": [
       "0       1980-1989\n",
       "1       1980-1989\n",
       "2       2000-2009\n",
       "3       2010-2020\n",
       "4       2000-2009\n",
       "          ...    \n",
       "2139    2010-2020\n",
       "2140    2010-2020\n",
       "2141    2010-2020\n",
       "2142    2010-2020\n",
       "2143    2010-2020\n",
       "Name: Year, Length: 2144, dtype: category\n",
       "Categories (6, object): [1900-1949 < 1950-1979 < 1980-1989 < 1990-1999 < 2000-2009 < 2010-2020]"
      ]
     },
     "execution_count": 10,
     "metadata": {},
     "output_type": "execute_result"
    }
   ],
   "source": [
    "prime_df = prime_df.reset_index()\n",
    "bins = [1900, 1949, 1979, 1989, 1999, 2009, 2020]\n",
    "groups = ['1900-1949', '1950-1979', '1980-1989', '1990-1999', '2000-2009', '2010-2020']\n",
    "pd.cut(prime_df['Year'], bins, labels=groups)"
   ]
  },
  {
   "cell_type": "code",
   "execution_count": 11,
   "metadata": {},
   "outputs": [
    {
     "data": {
      "text/html": [
       "<div>\n",
       "<style scoped>\n",
       "    .dataframe tbody tr th:only-of-type {\n",
       "        vertical-align: middle;\n",
       "    }\n",
       "\n",
       "    .dataframe tbody tr th {\n",
       "        vertical-align: top;\n",
       "    }\n",
       "\n",
       "    .dataframe thead th {\n",
       "        text-align: right;\n",
       "    }\n",
       "</style>\n",
       "<table border=\"1\" class=\"dataframe\">\n",
       "  <thead>\n",
       "    <tr style=\"text-align: right;\">\n",
       "      <th></th>\n",
       "      <th>Title</th>\n",
       "      <th>Year</th>\n",
       "      <th>Age</th>\n",
       "      <th>IMDB</th>\n",
       "      <th>Rotten Tomatoes</th>\n",
       "      <th>Age Range</th>\n",
       "    </tr>\n",
       "  </thead>\n",
       "  <tbody>\n",
       "    <tr>\n",
       "      <th>0</th>\n",
       "      <td>Malgudi Days</td>\n",
       "      <td>1987</td>\n",
       "      <td>all</td>\n",
       "      <td>9.5</td>\n",
       "      <td>NaN</td>\n",
       "      <td>1980-1989</td>\n",
       "    </tr>\n",
       "    <tr>\n",
       "      <th>1</th>\n",
       "      <td>The Joy of Painting</td>\n",
       "      <td>1983</td>\n",
       "      <td>all</td>\n",
       "      <td>9.4</td>\n",
       "      <td>NaN</td>\n",
       "      <td>1980-1989</td>\n",
       "    </tr>\n",
       "    <tr>\n",
       "      <th>2</th>\n",
       "      <td>Band of Brothers</td>\n",
       "      <td>2001</td>\n",
       "      <td>18+</td>\n",
       "      <td>9.4</td>\n",
       "      <td>94%</td>\n",
       "      <td>2000-2009</td>\n",
       "    </tr>\n",
       "    <tr>\n",
       "      <th>3</th>\n",
       "      <td>Green Paradise</td>\n",
       "      <td>2011</td>\n",
       "      <td>all</td>\n",
       "      <td>9.3</td>\n",
       "      <td>NaN</td>\n",
       "      <td>2010-2020</td>\n",
       "    </tr>\n",
       "    <tr>\n",
       "      <th>4</th>\n",
       "      <td>The Wire</td>\n",
       "      <td>2002</td>\n",
       "      <td>18+</td>\n",
       "      <td>9.3</td>\n",
       "      <td>94%</td>\n",
       "      <td>2000-2009</td>\n",
       "    </tr>\n",
       "  </tbody>\n",
       "</table>\n",
       "</div>"
      ],
      "text/plain": [
       "                 Title  Year  Age  IMDB Rotten Tomatoes  Age Range\n",
       "0         Malgudi Days  1987  all   9.5             NaN  1980-1989\n",
       "1  The Joy of Painting  1983  all   9.4             NaN  1980-1989\n",
       "2     Band of Brothers  2001  18+   9.4             94%  2000-2009\n",
       "3       Green Paradise  2011  all   9.3             NaN  2010-2020\n",
       "4             The Wire  2002  18+   9.3             94%  2000-2009"
      ]
     },
     "execution_count": 11,
     "metadata": {},
     "output_type": "execute_result"
    }
   ],
   "source": [
    "prime_df['Age Range'] = pd.cut(prime_df['Year'], bins, labels=groups)\n",
    "prime_df.head()"
   ]
  },
  {
   "cell_type": "code",
   "execution_count": 12,
   "metadata": {},
   "outputs": [
    {
     "data": {
      "text/html": [
       "<div>\n",
       "<style scoped>\n",
       "    .dataframe tbody tr th:only-of-type {\n",
       "        vertical-align: middle;\n",
       "    }\n",
       "\n",
       "    .dataframe tbody tr th {\n",
       "        vertical-align: top;\n",
       "    }\n",
       "\n",
       "    .dataframe thead th {\n",
       "        text-align: right;\n",
       "    }\n",
       "</style>\n",
       "<table border=\"1\" class=\"dataframe\">\n",
       "  <thead>\n",
       "    <tr style=\"text-align: right;\">\n",
       "      <th></th>\n",
       "      <th>Title</th>\n",
       "      <th>Year</th>\n",
       "      <th>Age</th>\n",
       "      <th>IMDB</th>\n",
       "      <th>Rotten Tomatoes</th>\n",
       "      <th>Age Range</th>\n",
       "    </tr>\n",
       "  </thead>\n",
       "  <tbody>\n",
       "    <tr>\n",
       "      <th>0</th>\n",
       "      <td>Malgudi Days</td>\n",
       "      <td>1987</td>\n",
       "      <td>all</td>\n",
       "      <td>9.5</td>\n",
       "      <td>NaN</td>\n",
       "      <td>1980-1989</td>\n",
       "    </tr>\n",
       "    <tr>\n",
       "      <th>1</th>\n",
       "      <td>The Joy of Painting</td>\n",
       "      <td>1983</td>\n",
       "      <td>all</td>\n",
       "      <td>9.4</td>\n",
       "      <td>NaN</td>\n",
       "      <td>1980-1989</td>\n",
       "    </tr>\n",
       "    <tr>\n",
       "      <th>2</th>\n",
       "      <td>Band of Brothers</td>\n",
       "      <td>2001</td>\n",
       "      <td>18+</td>\n",
       "      <td>9.4</td>\n",
       "      <td>94%</td>\n",
       "      <td>2000-2009</td>\n",
       "    </tr>\n",
       "    <tr>\n",
       "      <th>3</th>\n",
       "      <td>Green Paradise</td>\n",
       "      <td>2011</td>\n",
       "      <td>all</td>\n",
       "      <td>9.3</td>\n",
       "      <td>NaN</td>\n",
       "      <td>2010-2020</td>\n",
       "    </tr>\n",
       "    <tr>\n",
       "      <th>4</th>\n",
       "      <td>The Wire</td>\n",
       "      <td>2002</td>\n",
       "      <td>18+</td>\n",
       "      <td>9.3</td>\n",
       "      <td>94%</td>\n",
       "      <td>2000-2009</td>\n",
       "    </tr>\n",
       "    <tr>\n",
       "      <th>...</th>\n",
       "      <td>...</td>\n",
       "      <td>...</td>\n",
       "      <td>...</td>\n",
       "      <td>...</td>\n",
       "      <td>...</td>\n",
       "      <td>...</td>\n",
       "    </tr>\n",
       "    <tr>\n",
       "      <th>1407</th>\n",
       "      <td>Betty Boop</td>\n",
       "      <td>1932</td>\n",
       "      <td>all</td>\n",
       "      <td>NaN</td>\n",
       "      <td>NaN</td>\n",
       "      <td>1900-1949</td>\n",
       "    </tr>\n",
       "    <tr>\n",
       "      <th>1456</th>\n",
       "      <td>Casper and Friends</td>\n",
       "      <td>1943</td>\n",
       "      <td>7+</td>\n",
       "      <td>NaN</td>\n",
       "      <td>NaN</td>\n",
       "      <td>1900-1949</td>\n",
       "    </tr>\n",
       "    <tr>\n",
       "      <th>1474</th>\n",
       "      <td>David Hand's Animaland</td>\n",
       "      <td>1948</td>\n",
       "      <td>NaN</td>\n",
       "      <td>NaN</td>\n",
       "      <td>NaN</td>\n",
       "      <td>1900-1949</td>\n",
       "    </tr>\n",
       "    <tr>\n",
       "      <th>1728</th>\n",
       "      <td>Television Playhouse</td>\n",
       "      <td>1947</td>\n",
       "      <td>NaN</td>\n",
       "      <td>NaN</td>\n",
       "      <td>NaN</td>\n",
       "      <td>1900-1949</td>\n",
       "    </tr>\n",
       "    <tr>\n",
       "      <th>2131</th>\n",
       "      <td>The Wackiest Works of Tex Avery</td>\n",
       "      <td>1945</td>\n",
       "      <td>NaN</td>\n",
       "      <td>NaN</td>\n",
       "      <td>NaN</td>\n",
       "      <td>1900-1949</td>\n",
       "    </tr>\n",
       "  </tbody>\n",
       "</table>\n",
       "<p>260 rows × 6 columns</p>\n",
       "</div>"
      ],
      "text/plain": [
       "                                Title  Year  Age  IMDB Rotten Tomatoes  \\\n",
       "0                        Malgudi Days  1987  all   9.5             NaN   \n",
       "1                 The Joy of Painting  1983  all   9.4             NaN   \n",
       "2                    Band of Brothers  2001  18+   9.4             94%   \n",
       "3                      Green Paradise  2011  all   9.3             NaN   \n",
       "4                            The Wire  2002  18+   9.3             94%   \n",
       "...                               ...   ...  ...   ...             ...   \n",
       "1407                       Betty Boop  1932  all   NaN             NaN   \n",
       "1456               Casper and Friends  1943   7+   NaN             NaN   \n",
       "1474           David Hand's Animaland  1948  NaN   NaN             NaN   \n",
       "1728             Television Playhouse  1947  NaN   NaN             NaN   \n",
       "2131  The Wackiest Works of Tex Avery  1945  NaN   NaN             NaN   \n",
       "\n",
       "      Age Range  \n",
       "0     1980-1989  \n",
       "1     1980-1989  \n",
       "2     2000-2009  \n",
       "3     2010-2020  \n",
       "4     2000-2009  \n",
       "...         ...  \n",
       "1407  1900-1949  \n",
       "1456  1900-1949  \n",
       "1474  1900-1949  \n",
       "1728  1900-1949  \n",
       "2131  1900-1949  \n",
       "\n",
       "[260 rows x 6 columns]"
      ]
     },
     "execution_count": 12,
     "metadata": {},
     "output_type": "execute_result"
    }
   ],
   "source": [
    "age_range_df = prime_df.groupby(\"Age Range\")\n",
    "age_range_df.head(50)"
   ]
  },
  {
   "cell_type": "code",
   "execution_count": 13,
   "metadata": {},
   "outputs": [
    {
     "data": {
      "text/plain": [
       "Age Range\n",
       "1900-1949      10\n",
       "1950-1979      86\n",
       "1980-1989      66\n",
       "1990-1999     141\n",
       "2000-2009     398\n",
       "2010-2020    1443\n",
       "Name: Age Range, dtype: int64"
      ]
     },
     "execution_count": 13,
     "metadata": {},
     "output_type": "execute_result"
    }
   ],
   "source": [
    "ranges = age_range_df[\"Age Range\"].count()\n",
    "ranges"
   ]
  },
  {
   "cell_type": "code",
   "execution_count": 15,
   "metadata": {},
   "outputs": [
    {
     "data": {
      "image/png": "[encoded data removed]",
      "text/plain": [
       "<Figure size 432x288 with 1 Axes>"
      ]
     },
     "metadata": {
      "needs_background": "light"
     },
     "output_type": "display_data"
    }
   ],
   "source": [
    "plt.bar(groups, ranges);\n",
    "plt.title('Era of Movies Created on Prime');\n",
    "plt.xticks(rotation=50);"
   ]
  },
  {
   "cell_type": "code",
   "execution_count": null,
   "metadata": {},
   "outputs": [],
   "source": []
  }
 ],
 "metadata": {
  "kernelspec": {
   "display_name": "Python 3",
   "language": "python",
   "name": "python3"
  },
  "language_info": {
   "codemirror_mode": {
    "name": "ipython",
    "version": 3
   },
   "file_extension": ".py",
   "mimetype": "text/x-python",
   "name": "python",
   "nbconvert_exporter": "python",
   "pygments_lexer": "ipython3",
   "version": "3.8.3"
  }
 },
 "nbformat": 4,
 "nbformat_minor": 4
}
