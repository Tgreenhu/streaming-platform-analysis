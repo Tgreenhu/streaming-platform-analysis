{
 "cells": [
  {
   "cell_type": "code",
   "execution_count": 1,
   "metadata": {},
   "outputs": [],
   "source": [
    "# Dependencies\n",
    "\n",
    "import os\n",
    "import csv\n",
    "import pandas as pd\n",
    "import matplotlib.pyplot as plt\n",
    "import scipy.stats as st\n",
    "from scipy.stats import sem\n",
    "from scipy.stats import linregress"
   ]
  },
  {
   "cell_type": "code",
   "execution_count": 2,
   "metadata": {},
   "outputs": [
    {
     "data": {
      "text/html": [
       "<div>\n",
       "<style scoped>\n",
       "    .dataframe tbody tr th:only-of-type {\n",
       "        vertical-align: middle;\n",
       "    }\n",
       "\n",
       "    .dataframe tbody tr th {\n",
       "        vertical-align: top;\n",
       "    }\n",
       "\n",
       "    .dataframe thead th {\n",
       "        text-align: right;\n",
       "    }\n",
       "</style>\n",
       "<table border=\"1\" class=\"dataframe\">\n",
       "  <thead>\n",
       "    <tr style=\"text-align: right;\">\n",
       "      <th></th>\n",
       "      <th>Year</th>\n",
       "      <th>Age</th>\n",
       "      <th>IMDB</th>\n",
       "      <th>Rotten Tomatoes</th>\n",
       "    </tr>\n",
       "    <tr>\n",
       "      <th>Title</th>\n",
       "      <th></th>\n",
       "      <th></th>\n",
       "      <th></th>\n",
       "      <th></th>\n",
       "    </tr>\n",
       "  </thead>\n",
       "  <tbody>\n",
       "    <tr>\n",
       "      <th>Lab Rats</th>\n",
       "      <td>2012</td>\n",
       "      <td>7+</td>\n",
       "      <td>6.6</td>\n",
       "      <td>NaN</td>\n",
       "    </tr>\n",
       "    <tr>\n",
       "      <th>America's Funniest Home Videos</th>\n",
       "      <td>1989</td>\n",
       "      <td>7+</td>\n",
       "      <td>6.2</td>\n",
       "      <td>NaN</td>\n",
       "    </tr>\n",
       "    <tr>\n",
       "      <th>Brain Games</th>\n",
       "      <td>2011</td>\n",
       "      <td>7+</td>\n",
       "      <td>8.3</td>\n",
       "      <td>NaN</td>\n",
       "    </tr>\n",
       "    <tr>\n",
       "      <th>Jessie</th>\n",
       "      <td>2011</td>\n",
       "      <td>all</td>\n",
       "      <td>5.9</td>\n",
       "      <td>NaN</td>\n",
       "    </tr>\n",
       "    <tr>\n",
       "      <th>PJ Masks</th>\n",
       "      <td>2015</td>\n",
       "      <td>all</td>\n",
       "      <td>5.6</td>\n",
       "      <td>NaN</td>\n",
       "    </tr>\n",
       "  </tbody>\n",
       "</table>\n",
       "</div>"
      ],
      "text/plain": [
       "                                Year  Age  IMDB Rotten Tomatoes\n",
       "Title                                                          \n",
       "Lab Rats                        2012   7+   6.6             NaN\n",
       "America's Funniest Home Videos  1989   7+   6.2             NaN\n",
       "Brain Games                     2011   7+   8.3             NaN\n",
       "Jessie                          2011  all   5.9             NaN\n",
       "PJ Masks                        2015  all   5.6             NaN"
      ]
     },
     "execution_count": 2,
     "metadata": {},
     "output_type": "execute_result"
    }
   ],
   "source": [
    "# Import Disney data\n",
    "\n",
    "disney_df = pd.read_csv(\"../CSV Resources/disney.csv\")\n",
    "disney_df = disney_df.set_index('Title')\n",
    "disney_df.head()"
   ]
  },
  {
   "cell_type": "code",
   "execution_count": 3,
   "metadata": {},
   "outputs": [
    {
     "data": {
      "text/html": [
       "<div>\n",
       "<style scoped>\n",
       "    .dataframe tbody tr th:only-of-type {\n",
       "        vertical-align: middle;\n",
       "    }\n",
       "\n",
       "    .dataframe tbody tr th {\n",
       "        vertical-align: top;\n",
       "    }\n",
       "\n",
       "    .dataframe thead th {\n",
       "        text-align: right;\n",
       "    }\n",
       "</style>\n",
       "<table border=\"1\" class=\"dataframe\">\n",
       "  <thead>\n",
       "    <tr style=\"text-align: right;\">\n",
       "      <th></th>\n",
       "      <th>Year</th>\n",
       "      <th>Age</th>\n",
       "      <th>IMDB</th>\n",
       "      <th>Rotten Tomatoes</th>\n",
       "    </tr>\n",
       "    <tr>\n",
       "      <th>Title</th>\n",
       "      <th></th>\n",
       "      <th></th>\n",
       "      <th></th>\n",
       "      <th></th>\n",
       "    </tr>\n",
       "  </thead>\n",
       "  <tbody>\n",
       "    <tr>\n",
       "      <th>The Simpsons</th>\n",
       "      <td>1989</td>\n",
       "      <td>7+</td>\n",
       "      <td>8.7</td>\n",
       "      <td>85%</td>\n",
       "    </tr>\n",
       "    <tr>\n",
       "      <th>Gravity Falls</th>\n",
       "      <td>2012</td>\n",
       "      <td>7+</td>\n",
       "      <td>8.9</td>\n",
       "      <td>100%</td>\n",
       "    </tr>\n",
       "    <tr>\n",
       "      <th>Marvel's Runaways</th>\n",
       "      <td>2017</td>\n",
       "      <td>16+</td>\n",
       "      <td>7.0</td>\n",
       "      <td>87%</td>\n",
       "    </tr>\n",
       "    <tr>\n",
       "      <th>The Mandalorian</th>\n",
       "      <td>2019</td>\n",
       "      <td>7+</td>\n",
       "      <td>8.7</td>\n",
       "      <td>93%</td>\n",
       "    </tr>\n",
       "    <tr>\n",
       "      <th>Star Wars: The Clone Wars</th>\n",
       "      <td>2008</td>\n",
       "      <td>7+</td>\n",
       "      <td>8.2</td>\n",
       "      <td>93%</td>\n",
       "    </tr>\n",
       "  </tbody>\n",
       "</table>\n",
       "</div>"
      ],
      "text/plain": [
       "                           Year  Age  IMDB Rotten Tomatoes\n",
       "Title                                                     \n",
       "The Simpsons               1989   7+   8.7             85%\n",
       "Gravity Falls              2012   7+   8.9            100%\n",
       "Marvel's Runaways          2017  16+   7.0             87%\n",
       "The Mandalorian            2019   7+   8.7             93%\n",
       "Star Wars: The Clone Wars  2008   7+   8.2             93%"
      ]
     },
     "execution_count": 3,
     "metadata": {},
     "output_type": "execute_result"
    }
   ],
   "source": [
    "# Drop all data that is missing a rating\n",
    "\n",
    "disney_df_dropped = disney_df.dropna()\n",
    "disney_df_dropped.head()"
   ]
  },
  {
   "cell_type": "code",
   "execution_count": 4,
   "metadata": {},
   "outputs": [
    {
     "name": "stderr",
     "output_type": "stream",
     "text": [
      "<ipython-input-4-d0db54cb1f03>:3: SettingWithCopyWarning: \n",
      "A value is trying to be set on a copy of a slice from a DataFrame.\n",
      "Try using .loc[row_indexer,col_indexer] = value instead\n",
      "\n",
      "See the caveats in the documentation: https://pandas.pydata.org/pandas-docs/stable/user_guide/indexing.html#returning-a-view-versus-a-copy\n",
      "  disney_df_dropped['RT'] = disney_df_dropped['Rotten Tomatoes'].str.extract('(\\d+)').astype(int)\n"
     ]
    },
    {
     "data": {
      "text/html": [
       "<div>\n",
       "<style scoped>\n",
       "    .dataframe tbody tr th:only-of-type {\n",
       "        vertical-align: middle;\n",
       "    }\n",
       "\n",
       "    .dataframe tbody tr th {\n",
       "        vertical-align: top;\n",
       "    }\n",
       "\n",
       "    .dataframe thead th {\n",
       "        text-align: right;\n",
       "    }\n",
       "</style>\n",
       "<table border=\"1\" class=\"dataframe\">\n",
       "  <thead>\n",
       "    <tr style=\"text-align: right;\">\n",
       "      <th></th>\n",
       "      <th>Year</th>\n",
       "      <th>Age</th>\n",
       "      <th>IMDB</th>\n",
       "      <th>Rotten Tomatoes</th>\n",
       "      <th>RT</th>\n",
       "    </tr>\n",
       "    <tr>\n",
       "      <th>Title</th>\n",
       "      <th></th>\n",
       "      <th></th>\n",
       "      <th></th>\n",
       "      <th></th>\n",
       "      <th></th>\n",
       "    </tr>\n",
       "  </thead>\n",
       "  <tbody>\n",
       "    <tr>\n",
       "      <th>The Simpsons</th>\n",
       "      <td>1989</td>\n",
       "      <td>7+</td>\n",
       "      <td>8.7</td>\n",
       "      <td>85%</td>\n",
       "      <td>85</td>\n",
       "    </tr>\n",
       "    <tr>\n",
       "      <th>Gravity Falls</th>\n",
       "      <td>2012</td>\n",
       "      <td>7+</td>\n",
       "      <td>8.9</td>\n",
       "      <td>100%</td>\n",
       "      <td>100</td>\n",
       "    </tr>\n",
       "    <tr>\n",
       "      <th>Marvel's Runaways</th>\n",
       "      <td>2017</td>\n",
       "      <td>16+</td>\n",
       "      <td>7.0</td>\n",
       "      <td>87%</td>\n",
       "      <td>87</td>\n",
       "    </tr>\n",
       "    <tr>\n",
       "      <th>The Mandalorian</th>\n",
       "      <td>2019</td>\n",
       "      <td>7+</td>\n",
       "      <td>8.7</td>\n",
       "      <td>93%</td>\n",
       "      <td>93</td>\n",
       "    </tr>\n",
       "    <tr>\n",
       "      <th>Star Wars: The Clone Wars</th>\n",
       "      <td>2008</td>\n",
       "      <td>7+</td>\n",
       "      <td>8.2</td>\n",
       "      <td>93%</td>\n",
       "      <td>93</td>\n",
       "    </tr>\n",
       "  </tbody>\n",
       "</table>\n",
       "</div>"
      ],
      "text/plain": [
       "                           Year  Age  IMDB Rotten Tomatoes   RT\n",
       "Title                                                          \n",
       "The Simpsons               1989   7+   8.7             85%   85\n",
       "Gravity Falls              2012   7+   8.9            100%  100\n",
       "Marvel's Runaways          2017  16+   7.0             87%   87\n",
       "The Mandalorian            2019   7+   8.7             93%   93\n",
       "Star Wars: The Clone Wars  2008   7+   8.2             93%   93"
      ]
     },
     "execution_count": 4,
     "metadata": {},
     "output_type": "execute_result"
    }
   ],
   "source": [
    "# Convert Rotten Tomatoes ratings from percentages to integers\n",
    "\n",
    "disney_df_dropped['RT'] = disney_df_dropped['Rotten Tomatoes'].str.extract('(\\d+)').astype(int)\n",
    "disney_df_dropped.head()"
   ]
  },
  {
   "cell_type": "code",
   "execution_count": 5,
   "metadata": {},
   "outputs": [
    {
     "name": "stderr",
     "output_type": "stream",
     "text": [
      "<ipython-input-5-05069c1d7eb6>:14: SettingWithCopyWarning: \n",
      "A value is trying to be set on a copy of a slice from a DataFrame\n",
      "\n",
      "See the caveats in the documentation: https://pandas.pydata.org/pandas-docs/stable/user_guide/indexing.html#returning-a-view-versus-a-copy\n",
      "  disney_df_dropped.sort_values(by=['RT', 'IMDB'], inplace=True, ascending=False)\n"
     ]
    },
    {
     "data": {
      "text/html": [
       "<div>\n",
       "<style scoped>\n",
       "    .dataframe tbody tr th:only-of-type {\n",
       "        vertical-align: middle;\n",
       "    }\n",
       "\n",
       "    .dataframe tbody tr th {\n",
       "        vertical-align: top;\n",
       "    }\n",
       "\n",
       "    .dataframe thead th {\n",
       "        text-align: right;\n",
       "    }\n",
       "</style>\n",
       "<table border=\"1\" class=\"dataframe\">\n",
       "  <thead>\n",
       "    <tr style=\"text-align: right;\">\n",
       "      <th></th>\n",
       "      <th>Total Number of Shows</th>\n",
       "      <th>Most Popular Age Group</th>\n",
       "      <th>Highest Rated IMDB</th>\n",
       "      <th>IMDB Average</th>\n",
       "      <th>Highest Rated RT</th>\n",
       "      <th>Rotten Tomatoes</th>\n",
       "    </tr>\n",
       "  </thead>\n",
       "  <tbody>\n",
       "    <tr>\n",
       "      <th>0</th>\n",
       "      <td>180</td>\n",
       "      <td>all</td>\n",
       "      <td>The Imagineering Story</td>\n",
       "      <td>6.92</td>\n",
       "      <td>The Imagineering Story</td>\n",
       "      <td>81.17</td>\n",
       "    </tr>\n",
       "  </tbody>\n",
       "</table>\n",
       "</div>"
      ],
      "text/plain": [
       "   Total Number of Shows Most Popular Age Group      Highest Rated IMDB  \\\n",
       "0                    180                    all  The Imagineering Story   \n",
       "\n",
       "   IMDB Average        Highest Rated RT  Rotten Tomatoes  \n",
       "0          6.92  The Imagineering Story            81.17  "
      ]
     },
     "execution_count": 5,
     "metadata": {},
     "output_type": "execute_result"
    }
   ],
   "source": [
    "# Create DataFrame to highlight Disney ratings\n",
    "\n",
    "imdb_average = disney_df['IMDB'].mean()\n",
    "round_imdb_average = round(imdb_average, 2)\n",
    "rotten_average = disney_df_dropped['RT'].mean()\n",
    "rounded_rotten_average = round(rotten_average, 2)\n",
    "age_group = disney_df['Age'].mode()\n",
    "total_shows = len(disney_df)\n",
    "title = disney_df.index.to_list()\n",
    "\n",
    "disney_df.sort_values(by=['IMDB'], inplace=True, ascending=False)\n",
    "highest_rated_imdb = disney_df.index[0]\n",
    "\n",
    "disney_df_dropped.sort_values(by=['RT', 'IMDB'], inplace=True, ascending=False)\n",
    "disney_df_dropped.head(100)\n",
    "highest_rated_rt = disney_df_dropped.index[0]\n",
    "\n",
    "disney = pd.DataFrame({'Total Number of Shows': total_shows,\n",
    "                        'Most Popular Age Group': age_group,\n",
    "                        'Highest Rated IMDB': highest_rated_imdb,\n",
    "                        'IMDB Average': round_imdb_average,\n",
    "                        'Highest Rated RT': highest_rated_rt,\n",
    "                        'Rotten Tomatoes': rounded_rotten_average})\n",
    "disney"
   ]
  },
  {
   "cell_type": "code",
   "execution_count": 6,
   "metadata": {},
   "outputs": [
    {
     "data": {
      "text/html": [
       "<div>\n",
       "<style scoped>\n",
       "    .dataframe tbody tr th:only-of-type {\n",
       "        vertical-align: middle;\n",
       "    }\n",
       "\n",
       "    .dataframe tbody tr th {\n",
       "        vertical-align: top;\n",
       "    }\n",
       "\n",
       "    .dataframe thead th {\n",
       "        text-align: right;\n",
       "    }\n",
       "</style>\n",
       "<table border=\"1\" class=\"dataframe\">\n",
       "  <thead>\n",
       "    <tr style=\"text-align: right;\">\n",
       "      <th></th>\n",
       "      <th>Title</th>\n",
       "      <th>Year</th>\n",
       "      <th>Age</th>\n",
       "      <th>IMDB</th>\n",
       "      <th>Rotten Tomatoes</th>\n",
       "      <th>Age Range</th>\n",
       "    </tr>\n",
       "  </thead>\n",
       "  <tbody>\n",
       "    <tr>\n",
       "      <th>0</th>\n",
       "      <td>The Imagineering Story</td>\n",
       "      <td>2019</td>\n",
       "      <td>7+</td>\n",
       "      <td>9.1</td>\n",
       "      <td>100%</td>\n",
       "      <td>2010-2020</td>\n",
       "    </tr>\n",
       "    <tr>\n",
       "      <th>1</th>\n",
       "      <td>Gravity Falls</td>\n",
       "      <td>2012</td>\n",
       "      <td>7+</td>\n",
       "      <td>8.9</td>\n",
       "      <td>100%</td>\n",
       "      <td>2010-2020</td>\n",
       "    </tr>\n",
       "    <tr>\n",
       "      <th>2</th>\n",
       "      <td>One Strange Rock</td>\n",
       "      <td>2018</td>\n",
       "      <td>all</td>\n",
       "      <td>8.8</td>\n",
       "      <td>83%</td>\n",
       "      <td>2010-2020</td>\n",
       "    </tr>\n",
       "    <tr>\n",
       "      <th>3</th>\n",
       "      <td>The Simpsons</td>\n",
       "      <td>1989</td>\n",
       "      <td>7+</td>\n",
       "      <td>8.7</td>\n",
       "      <td>85%</td>\n",
       "      <td>1980-1989</td>\n",
       "    </tr>\n",
       "    <tr>\n",
       "      <th>4</th>\n",
       "      <td>The Mandalorian</td>\n",
       "      <td>2019</td>\n",
       "      <td>7+</td>\n",
       "      <td>8.7</td>\n",
       "      <td>93%</td>\n",
       "      <td>2010-2020</td>\n",
       "    </tr>\n",
       "  </tbody>\n",
       "</table>\n",
       "</div>"
      ],
      "text/plain": [
       "                    Title  Year  Age  IMDB Rotten Tomatoes  Age Range\n",
       "0  The Imagineering Story  2019   7+   9.1            100%  2010-2020\n",
       "1           Gravity Falls  2012   7+   8.9            100%  2010-2020\n",
       "2        One Strange Rock  2018  all   8.8             83%  2010-2020\n",
       "3            The Simpsons  1989   7+   8.7             85%  1980-1989\n",
       "4         The Mandalorian  2019   7+   8.7             93%  2010-2020"
      ]
     },
     "execution_count": 6,
     "metadata": {},
     "output_type": "execute_result"
    }
   ],
   "source": [
    "# Add year ranges column\n",
    "\n",
    "disney_df = disney_df.reset_index()\n",
    "bins = [1900, 1949, 1979, 1989, 1999, 2009, 2020]\n",
    "groups = ['1900-1949', '1950-1979', '1980-1989', '1990-1999', '2000-2009', '2010-2020']\n",
    "pd.cut(disney_df['Year'], bins, labels=groups)\n",
    "\n",
    "disney_df['Age Range'] = pd.cut(disney_df['Year'], bins, labels=groups)\n",
    "disney_df.head()"
   ]
  },
  {
   "cell_type": "code",
   "execution_count": 7,
   "metadata": {},
   "outputs": [
    {
     "data": {
      "text/html": [
       "<div>\n",
       "<style scoped>\n",
       "    .dataframe tbody tr th:only-of-type {\n",
       "        vertical-align: middle;\n",
       "    }\n",
       "\n",
       "    .dataframe tbody tr th {\n",
       "        vertical-align: top;\n",
       "    }\n",
       "\n",
       "    .dataframe thead th {\n",
       "        text-align: right;\n",
       "    }\n",
       "</style>\n",
       "<table border=\"1\" class=\"dataframe\">\n",
       "  <thead>\n",
       "    <tr style=\"text-align: right;\">\n",
       "      <th></th>\n",
       "      <th>Title</th>\n",
       "      <th>Year</th>\n",
       "      <th>Age</th>\n",
       "      <th>IMDB</th>\n",
       "      <th>Rotten Tomatoes</th>\n",
       "      <th>Age Range</th>\n",
       "    </tr>\n",
       "  </thead>\n",
       "  <tbody>\n",
       "    <tr>\n",
       "      <th>0</th>\n",
       "      <td>The Imagineering Story</td>\n",
       "      <td>2019</td>\n",
       "      <td>7+</td>\n",
       "      <td>9.1</td>\n",
       "      <td>100%</td>\n",
       "      <td>2010-2020</td>\n",
       "    </tr>\n",
       "    <tr>\n",
       "      <th>1</th>\n",
       "      <td>Gravity Falls</td>\n",
       "      <td>2012</td>\n",
       "      <td>7+</td>\n",
       "      <td>8.9</td>\n",
       "      <td>100%</td>\n",
       "      <td>2010-2020</td>\n",
       "    </tr>\n",
       "    <tr>\n",
       "      <th>2</th>\n",
       "      <td>One Strange Rock</td>\n",
       "      <td>2018</td>\n",
       "      <td>all</td>\n",
       "      <td>8.8</td>\n",
       "      <td>83%</td>\n",
       "      <td>2010-2020</td>\n",
       "    </tr>\n",
       "    <tr>\n",
       "      <th>3</th>\n",
       "      <td>The Simpsons</td>\n",
       "      <td>1989</td>\n",
       "      <td>7+</td>\n",
       "      <td>8.7</td>\n",
       "      <td>85%</td>\n",
       "      <td>1980-1989</td>\n",
       "    </tr>\n",
       "    <tr>\n",
       "      <th>4</th>\n",
       "      <td>The Mandalorian</td>\n",
       "      <td>2019</td>\n",
       "      <td>7+</td>\n",
       "      <td>8.7</td>\n",
       "      <td>93%</td>\n",
       "      <td>2010-2020</td>\n",
       "    </tr>\n",
       "    <tr>\n",
       "      <th>...</th>\n",
       "      <td>...</td>\n",
       "      <td>...</td>\n",
       "      <td>...</td>\n",
       "      <td>...</td>\n",
       "      <td>...</td>\n",
       "      <td>...</td>\n",
       "    </tr>\n",
       "    <tr>\n",
       "      <th>147</th>\n",
       "      <td>Spider-Woman</td>\n",
       "      <td>1979</td>\n",
       "      <td>all</td>\n",
       "      <td>5.7</td>\n",
       "      <td>NaN</td>\n",
       "      <td>1950-1979</td>\n",
       "    </tr>\n",
       "    <tr>\n",
       "      <th>150</th>\n",
       "      <td>Handy Manny</td>\n",
       "      <td>2006</td>\n",
       "      <td>all</td>\n",
       "      <td>5.5</td>\n",
       "      <td>NaN</td>\n",
       "      <td>2000-2009</td>\n",
       "    </tr>\n",
       "    <tr>\n",
       "      <th>152</th>\n",
       "      <td>The Avengers: United They Stand</td>\n",
       "      <td>1999</td>\n",
       "      <td>7+</td>\n",
       "      <td>5.5</td>\n",
       "      <td>NaN</td>\n",
       "      <td>1990-1999</td>\n",
       "    </tr>\n",
       "    <tr>\n",
       "      <th>160</th>\n",
       "      <td>Hannah Montana</td>\n",
       "      <td>2006</td>\n",
       "      <td>all</td>\n",
       "      <td>5.0</td>\n",
       "      <td>NaN</td>\n",
       "      <td>2000-2009</td>\n",
       "    </tr>\n",
       "    <tr>\n",
       "      <th>166</th>\n",
       "      <td>JONAS</td>\n",
       "      <td>2009</td>\n",
       "      <td>NaN</td>\n",
       "      <td>4.6</td>\n",
       "      <td>NaN</td>\n",
       "      <td>2000-2009</td>\n",
       "    </tr>\n",
       "  </tbody>\n",
       "</table>\n",
       "<p>111 rows × 6 columns</p>\n",
       "</div>"
      ],
      "text/plain": [
       "                               Title  Year  Age  IMDB Rotten Tomatoes  \\\n",
       "0             The Imagineering Story  2019   7+   9.1            100%   \n",
       "1                      Gravity Falls  2012   7+   8.9            100%   \n",
       "2                   One Strange Rock  2018  all   8.8             83%   \n",
       "3                       The Simpsons  1989   7+   8.7             85%   \n",
       "4                    The Mandalorian  2019   7+   8.7             93%   \n",
       "..                               ...   ...  ...   ...             ...   \n",
       "147                     Spider-Woman  1979  all   5.7             NaN   \n",
       "150                      Handy Manny  2006  all   5.5             NaN   \n",
       "152  The Avengers: United They Stand  1999   7+   5.5             NaN   \n",
       "160                   Hannah Montana  2006  all   5.0             NaN   \n",
       "166                            JONAS  2009  NaN   4.6             NaN   \n",
       "\n",
       "     Age Range  \n",
       "0    2010-2020  \n",
       "1    2010-2020  \n",
       "2    2010-2020  \n",
       "3    1980-1989  \n",
       "4    2010-2020  \n",
       "..         ...  \n",
       "147  1950-1979  \n",
       "150  2000-2009  \n",
       "152  1990-1999  \n",
       "160  2000-2009  \n",
       "166  2000-2009  \n",
       "\n",
       "[111 rows x 6 columns]"
      ]
     },
     "execution_count": 7,
     "metadata": {},
     "output_type": "execute_result"
    }
   ],
   "source": [
    "# Group year ranges together\n",
    "\n",
    "age_range_df = disney_df.groupby(\"Age Range\")\n",
    "age_range_df.head(50)"
   ]
  },
  {
   "cell_type": "code",
   "execution_count": 11,
   "metadata": {},
   "outputs": [
    {
     "data": {
      "image/png": "[encoded data removed]",
      "text/plain": [
       "<Figure size 432x288 with 1 Axes>"
      ]
     },
     "metadata": {
      "needs_background": "light"
     },
     "output_type": "display_data"
    }
   ],
   "source": [
    "# Create bar chart represeting year range \n",
    "\n",
    "ranges = age_range_df[\"Age Range\"].count()\n",
    "plt.bar(groups, ranges, color = '#BFF5FD', edgecolor = 'black');\n",
    "plt.title('Era of Movies Created on Disney');\n",
    "plt.xlabel('Year Range')\n",
    "plt.ylabel('Count of Shows')\n",
    "plt.xticks(rotation=50);\n",
    "plt.grid();"
   ]
  },
  {
   "cell_type": "code",
   "execution_count": 13,
   "metadata": {},
   "outputs": [
    {
     "data": {
      "image/png": "[encoded data removed]",
      "text/plain": [
       "<Figure size 432x288 with 1 Axes>"
      ]
     },
     "metadata": {
      "needs_background": "light"
     },
     "output_type": "display_data"
    }
   ],
   "source": [
    "# Bar chart to breakdown number of movies per year in the last decade\n",
    "\n",
    "disney_years = disney_df.groupby(\"Year\")\n",
    "disney_year_count = disney_years.count().tail(11)\n",
    "top_11_years = ['2010', '2011', '2012', '2013', '2014', '2015', '2016', '2017', '2018', '2019', '2020']\n",
    "\n",
    "plt.bar(top_11_years,disney_year_count['Title'], color = '#BFF5FD', edgecolor = 'black')\n",
    "plt.title('Breakdown of the Past Decade');\n",
    "plt.xlabel('Year');\n",
    "plt.ylabel('Count of Shows');\n",
    "plt.xticks(rotation=50);\n",
    "plt.grid();"
   ]
  },
  {
   "cell_type": "code",
   "execution_count": 14,
   "metadata": {},
   "outputs": [
    {
     "data": {
      "image/png": "[encoded data removed]",
      "text/plain": [
       "<Figure size 432x288 with 1 Axes>"
      ]
     },
     "metadata": {
      "needs_background": "light"
     },
     "output_type": "display_data"
    }
   ],
   "source": [
    "# Group IMDB ratings into bins to create a bar graph\n",
    "\n",
    "bins2 = [0, .99, 1.99, 2.99, 3.99, 4.99, 5.99, 6.99, 7.99, 8.99, 10]\n",
    "groups2 = ['0-1', '1-2', '2-3', '3-4', '4-5', '5-6', '6-7', '7-8', '8-9', '9-10']\n",
    "disney_df['IMDB Rating Ranges'] = pd.cut(disney_df['IMDB'], bins2, labels=groups2)\n",
    "\n",
    "imdb_rating_ranges = disney_df.groupby('IMDB Rating Ranges')\n",
    "ranges2 = imdb_rating_ranges['IMDB Rating Ranges'].count()\n",
    "\n",
    "plt.bar(groups2, ranges2, color = '#BFF5FD', edgecolor = 'black');\n",
    "plt.title('Highest IMDB Rating Group');\n",
    "plt.xlabel('Rating Range');\n",
    "plt.ylabel('Count of Shows');\n",
    "plt.grid();"
   ]
  },
  {
   "cell_type": "code",
   "execution_count": 15,
   "metadata": {},
   "outputs": [
    {
     "data": {
      "image/png": "[encoded data removed]",
      "text/plain": [
       "<Figure size 432x288 with 1 Axes>"
      ]
     },
     "metadata": {
      "needs_background": "light"
     },
     "output_type": "display_data"
    }
   ],
   "source": [
    "# Group Rotten Tomatoes ratings into bins to create a bar graph\n",
    "\n",
    "bins3 = [0, 9, 19, 29, 39, 49, 59, 69, 79, 89, 100]\n",
    "groups3 = ['0-10', '10-20', '20-30', '30-40', '40-50', '50-60', '60-70', '70-80', '80-90', '90-100']\n",
    "disney_df_dropped['RT Rating Ranges'] = pd.cut(disney_df_dropped['RT'], bins3, labels=groups3)\n",
    "\n",
    "rt_rating_ranges = disney_df_dropped.groupby('RT Rating Ranges')\n",
    "ranges3 = rt_rating_ranges['RT Rating Ranges'].count()\n",
    "\n",
    "plt.bar(groups3, ranges3, color = '#BFF5FD', edgecolor = 'black');\n",
    "plt.title('Highest Rotten Tomatoes Rating Group');\n",
    "plt.xlabel('Rating Ranges (%)');\n",
    "plt.ylabel('Show Counts');\n",
    "plt.xticks(rotation=50);\n",
    "plt.grid();"
   ]
  },
  {
   "cell_type": "code",
   "execution_count": 17,
   "metadata": {},
   "outputs": [
    {
     "data": {
      "image/png": "[encoded data removed]",
      "text/plain": [
       "<Figure size 7200x720 with 2 Axes>"
      ]
     },
     "metadata": {
      "needs_background": "light"
     },
     "output_type": "display_data"
    }
   ],
   "source": [
    "# Compares each show's IMDB and Rotten Tomatoes' rating\n",
    "\n",
    "fig = plt.figure(figsize=(100,10))\n",
    "ax = fig.add_subplot(121)\n",
    "ax2 = ax.twinx()\n",
    "width = 0.4\n",
    "disney_df_dropped.IMDB.plot(kind='bar', color='red', legend = 'IMDB', ax=ax, width=width, position=1);\n",
    "disney_df_dropped.RT.plot(kind='bar', color='blue', legend = 'Rotten Tomatoes', ax=ax2, width=width, position=0);\n",
    "ax.set_ylabel('IMDB');\n",
    "ax2.set_ylabel('RT');"
   ]
  },
  {
   "cell_type": "code",
   "execution_count": 20,
   "metadata": {},
   "outputs": [
    {
     "data": {
      "image/png": "[encoded data removed]",
      "text/plain": [
       "<Figure size 432x288 with 1 Axes>"
      ]
     },
     "metadata": {
      "needs_background": "light"
     },
     "output_type": "display_data"
    },
    {
     "name": "stdout",
     "output_type": "stream",
     "text": [
      "The correlation between both factors is 0.44\n"
     ]
    }
   ],
   "source": [
    "# Find any correlation between IMDB & Rotten Tomatoes ratings using scatter plot\n",
    "\n",
    "disney_RT = disney_df_dropped['RT']\n",
    "disney_IMBD_ratings = disney_df_dropped['IMDB']\n",
    "\n",
    "x_values = disney_RT\n",
    "y_values = disney_IMBD_ratings\n",
    "(slope, intercept, rvalue, pvalue, stderr) = linregress(x_values, y_values)\n",
    "regress_values = x_values * slope + intercept\n",
    "\n",
    "plt.scatter(disney_RT, disney_IMBD_ratings, facecolor='#BFF5FD', edgecolor=\"black\");\n",
    "plt.plot(x_values,regress_values,\"r-\")\n",
    "plt.title('Disney Ratings Comparisons')\n",
    "plt.xticks([10,20,30,40,50,60,70,80,90,100])\n",
    "plt.xlabel('Rotten Tomatoes Ratings')\n",
    "plt.ylabel('IMDB Ratings')\n",
    "plt.xlim = (0,100)\n",
    "plt.show()\n",
    "\n",
    "correlation = st.pearsonr(disney_RT,disney_IMBD_ratings)\n",
    "print(f\"The correlation between both factors is {round(correlation[0],2)}\")"
   ]
  },
  {
   "cell_type": "code",
   "execution_count": 25,
   "metadata": {},
   "outputs": [
    {
     "data": {
      "image/png": "[encoded data removed]",
      "text/plain": [
       "<Figure size 432x288 with 1 Axes>"
      ]
     },
     "metadata": {},
     "output_type": "display_data"
    }
   ],
   "source": [
    "# Disney Target Audience pie chart\n",
    "\n",
    "disney_age_group = disney_df.groupby(\"Age\")\n",
    "age_count = disney_age_group.count()\n",
    "\n",
    "explode = (0,0,0.1)\n",
    "labels = ['16+','7+','All']\n",
    "colors = ['green','red','#BFF5FD','yellow']\n",
    "\n",
    "plt.pie(age_count['Title'],explode = explode, labels = labels, colors = colors,autopct=\"%1.1f%%\", shadow=True);\n",
    "plt.title(\"Disney's Target Audience\");"
   ]
  }
 ],
 "metadata": {
  "kernelspec": {
   "display_name": "Python 3",
   "language": "python",
   "name": "python3"
  },
  "language_info": {
   "codemirror_mode": {
    "name": "ipython",
    "version": 3
   },
   "file_extension": ".py",
   "mimetype": "text/x-python",
   "name": "python",
   "nbconvert_exporter": "python",
   "pygments_lexer": "ipython3",
   "version": "3.8.3"
  }
 },
 "nbformat": 4,
 "nbformat_minor": 4
}
