{
 "cells": [
  {
   "cell_type": "code",
   "execution_count": 34,
   "metadata": {},
   "outputs": [],
   "source": [
    "import os\n",
    "import csv\n",
    "import pandas as pd\n",
    "import matplotlib.pyplot as plt"
   ]
  },
  {
   "cell_type": "code",
   "execution_count": 35,
   "metadata": {},
   "outputs": [
    {
     "data": {
      "text/html": [
       "<div>\n",
       "<style scoped>\n",
       "    .dataframe tbody tr th:only-of-type {\n",
       "        vertical-align: middle;\n",
       "    }\n",
       "\n",
       "    .dataframe tbody tr th {\n",
       "        vertical-align: top;\n",
       "    }\n",
       "\n",
       "    .dataframe thead th {\n",
       "        text-align: right;\n",
       "    }\n",
       "</style>\n",
       "<table border=\"1\" class=\"dataframe\">\n",
       "  <thead>\n",
       "    <tr style=\"text-align: right;\">\n",
       "      <th></th>\n",
       "      <th>Year</th>\n",
       "      <th>Age</th>\n",
       "      <th>IMDB</th>\n",
       "      <th>Rotten Tomatoes</th>\n",
       "    </tr>\n",
       "    <tr>\n",
       "      <th>Title</th>\n",
       "      <th></th>\n",
       "      <th></th>\n",
       "      <th></th>\n",
       "      <th></th>\n",
       "    </tr>\n",
       "  </thead>\n",
       "  <tbody>\n",
       "    <tr>\n",
       "      <th>Breaking Bad</th>\n",
       "      <td>2008</td>\n",
       "      <td>18+</td>\n",
       "      <td>9.5</td>\n",
       "      <td>96%</td>\n",
       "    </tr>\n",
       "    <tr>\n",
       "      <th>Stranger Things</th>\n",
       "      <td>2016</td>\n",
       "      <td>16+</td>\n",
       "      <td>8.8</td>\n",
       "      <td>93%</td>\n",
       "    </tr>\n",
       "    <tr>\n",
       "      <th>Money Heist</th>\n",
       "      <td>2017</td>\n",
       "      <td>18+</td>\n",
       "      <td>8.4</td>\n",
       "      <td>91%</td>\n",
       "    </tr>\n",
       "    <tr>\n",
       "      <th>Sherlock</th>\n",
       "      <td>2010</td>\n",
       "      <td>16+</td>\n",
       "      <td>9.1</td>\n",
       "      <td>78%</td>\n",
       "    </tr>\n",
       "    <tr>\n",
       "      <th>Better Call Saul</th>\n",
       "      <td>2015</td>\n",
       "      <td>18+</td>\n",
       "      <td>8.7</td>\n",
       "      <td>97%</td>\n",
       "    </tr>\n",
       "  </tbody>\n",
       "</table>\n",
       "</div>"
      ],
      "text/plain": [
       "                  Year  Age  IMDB Rotten Tomatoes\n",
       "Title                                            \n",
       "Breaking Bad      2008  18+   9.5             96%\n",
       "Stranger Things   2016  16+   8.8             93%\n",
       "Money Heist       2017  18+   8.4             91%\n",
       "Sherlock          2010  16+   9.1             78%\n",
       "Better Call Saul  2015  18+   8.7             97%"
      ]
     },
     "execution_count": 35,
     "metadata": {},
     "output_type": "execute_result"
    }
   ],
   "source": [
    "netflix_df = pd.read_csv(\"Resources/netflix.csv\")\n",
    "netflix_df = netflix_df.set_index('Title')\n",
    "netflix_df.head()"
   ]
  },
  {
   "cell_type": "code",
   "execution_count": 36,
   "metadata": {},
   "outputs": [
    {
     "data": {
      "text/plain": [
       "7.163279955825518"
      ]
     },
     "execution_count": 36,
     "metadata": {},
     "output_type": "execute_result"
    }
   ],
   "source": [
    "imdb_average = netflix_df['IMDB'].mean()\n",
    "imdb_average"
   ]
  },
  {
   "cell_type": "code",
   "execution_count": 37,
   "metadata": {},
   "outputs": [
    {
     "data": {
      "text/html": [
       "<div>\n",
       "<style scoped>\n",
       "    .dataframe tbody tr th:only-of-type {\n",
       "        vertical-align: middle;\n",
       "    }\n",
       "\n",
       "    .dataframe tbody tr th {\n",
       "        vertical-align: top;\n",
       "    }\n",
       "\n",
       "    .dataframe thead th {\n",
       "        text-align: right;\n",
       "    }\n",
       "</style>\n",
       "<table border=\"1\" class=\"dataframe\">\n",
       "  <thead>\n",
       "    <tr style=\"text-align: right;\">\n",
       "      <th></th>\n",
       "      <th>Year</th>\n",
       "      <th>Age</th>\n",
       "      <th>IMDB</th>\n",
       "      <th>Rotten Tomatoes</th>\n",
       "    </tr>\n",
       "    <tr>\n",
       "      <th>Title</th>\n",
       "      <th></th>\n",
       "      <th></th>\n",
       "      <th></th>\n",
       "      <th></th>\n",
       "    </tr>\n",
       "  </thead>\n",
       "  <tbody>\n",
       "    <tr>\n",
       "      <th>Breaking Bad</th>\n",
       "      <td>2008</td>\n",
       "      <td>18+</td>\n",
       "      <td>9.5</td>\n",
       "      <td>96%</td>\n",
       "    </tr>\n",
       "    <tr>\n",
       "      <th>Stranger Things</th>\n",
       "      <td>2016</td>\n",
       "      <td>16+</td>\n",
       "      <td>8.8</td>\n",
       "      <td>93%</td>\n",
       "    </tr>\n",
       "    <tr>\n",
       "      <th>Money Heist</th>\n",
       "      <td>2017</td>\n",
       "      <td>18+</td>\n",
       "      <td>8.4</td>\n",
       "      <td>91%</td>\n",
       "    </tr>\n",
       "    <tr>\n",
       "      <th>Sherlock</th>\n",
       "      <td>2010</td>\n",
       "      <td>16+</td>\n",
       "      <td>9.1</td>\n",
       "      <td>78%</td>\n",
       "    </tr>\n",
       "    <tr>\n",
       "      <th>Better Call Saul</th>\n",
       "      <td>2015</td>\n",
       "      <td>18+</td>\n",
       "      <td>8.7</td>\n",
       "      <td>97%</td>\n",
       "    </tr>\n",
       "  </tbody>\n",
       "</table>\n",
       "</div>"
      ],
      "text/plain": [
       "                  Year  Age  IMDB Rotten Tomatoes\n",
       "Title                                            \n",
       "Breaking Bad      2008  18+   9.5             96%\n",
       "Stranger Things   2016  16+   8.8             93%\n",
       "Money Heist       2017  18+   8.4             91%\n",
       "Sherlock          2010  16+   9.1             78%\n",
       "Better Call Saul  2015  18+   8.7             97%"
      ]
     },
     "execution_count": 37,
     "metadata": {},
     "output_type": "execute_result"
    }
   ],
   "source": [
    "netflix_df_dropped = netflix_df.dropna()\n",
    "netflix_df_dropped.head()"
   ]
  },
  {
   "cell_type": "code",
   "execution_count": 38,
   "metadata": {},
   "outputs": [
    {
     "name": "stderr",
     "output_type": "stream",
     "text": [
      "<ipython-input-38-b3c0160c5f61>:1: SettingWithCopyWarning: \n",
      "A value is trying to be set on a copy of a slice from a DataFrame.\n",
      "Try using .loc[row_indexer,col_indexer] = value instead\n",
      "\n",
      "See the caveats in the documentation: https://pandas.pydata.org/pandas-docs/stable/user_guide/indexing.html#returning-a-view-versus-a-copy\n",
      "  netflix_df_dropped['RT'] = netflix_df_dropped['Rotten Tomatoes'].str.extract('(\\d+)').astype(int)\n"
     ]
    },
    {
     "data": {
      "text/html": [
       "<div>\n",
       "<style scoped>\n",
       "    .dataframe tbody tr th:only-of-type {\n",
       "        vertical-align: middle;\n",
       "    }\n",
       "\n",
       "    .dataframe tbody tr th {\n",
       "        vertical-align: top;\n",
       "    }\n",
       "\n",
       "    .dataframe thead th {\n",
       "        text-align: right;\n",
       "    }\n",
       "</style>\n",
       "<table border=\"1\" class=\"dataframe\">\n",
       "  <thead>\n",
       "    <tr style=\"text-align: right;\">\n",
       "      <th></th>\n",
       "      <th>Year</th>\n",
       "      <th>Age</th>\n",
       "      <th>IMDB</th>\n",
       "      <th>Rotten Tomatoes</th>\n",
       "      <th>RT</th>\n",
       "    </tr>\n",
       "    <tr>\n",
       "      <th>Title</th>\n",
       "      <th></th>\n",
       "      <th></th>\n",
       "      <th></th>\n",
       "      <th></th>\n",
       "      <th></th>\n",
       "    </tr>\n",
       "  </thead>\n",
       "  <tbody>\n",
       "    <tr>\n",
       "      <th>Breaking Bad</th>\n",
       "      <td>2008</td>\n",
       "      <td>18+</td>\n",
       "      <td>9.5</td>\n",
       "      <td>96%</td>\n",
       "      <td>96</td>\n",
       "    </tr>\n",
       "    <tr>\n",
       "      <th>Stranger Things</th>\n",
       "      <td>2016</td>\n",
       "      <td>16+</td>\n",
       "      <td>8.8</td>\n",
       "      <td>93%</td>\n",
       "      <td>93</td>\n",
       "    </tr>\n",
       "    <tr>\n",
       "      <th>Money Heist</th>\n",
       "      <td>2017</td>\n",
       "      <td>18+</td>\n",
       "      <td>8.4</td>\n",
       "      <td>91%</td>\n",
       "      <td>91</td>\n",
       "    </tr>\n",
       "    <tr>\n",
       "      <th>Sherlock</th>\n",
       "      <td>2010</td>\n",
       "      <td>16+</td>\n",
       "      <td>9.1</td>\n",
       "      <td>78%</td>\n",
       "      <td>78</td>\n",
       "    </tr>\n",
       "    <tr>\n",
       "      <th>Better Call Saul</th>\n",
       "      <td>2015</td>\n",
       "      <td>18+</td>\n",
       "      <td>8.7</td>\n",
       "      <td>97%</td>\n",
       "      <td>97</td>\n",
       "    </tr>\n",
       "  </tbody>\n",
       "</table>\n",
       "</div>"
      ],
      "text/plain": [
       "                  Year  Age  IMDB Rotten Tomatoes  RT\n",
       "Title                                                \n",
       "Breaking Bad      2008  18+   9.5             96%  96\n",
       "Stranger Things   2016  16+   8.8             93%  93\n",
       "Money Heist       2017  18+   8.4             91%  91\n",
       "Sherlock          2010  16+   9.1             78%  78\n",
       "Better Call Saul  2015  18+   8.7             97%  97"
      ]
     },
     "execution_count": 38,
     "metadata": {},
     "output_type": "execute_result"
    }
   ],
   "source": [
    "netflix_df_dropped['RT'] = netflix_df_dropped['Rotten Tomatoes'].str.extract('(\\d+)').astype(int)\n",
    "netflix_df_dropped.head()"
   ]
  },
  {
   "cell_type": "code",
   "execution_count": 41,
   "metadata": {},
   "outputs": [],
   "source": [
    "rotten_average = netflix_df_dropped['RT'].mean()\n",
    "age_group = netflix_df['Age'].mode()\n",
    "total_shows = len(netflix_df)\n",
    "title = netflix_df.index.to_list()"
   ]
  },
  {
   "cell_type": "code",
   "execution_count": 54,
   "metadata": {},
   "outputs": [],
   "source": [
    "netflix_df.sort_values(by=['IMDB'], inplace=True, ascending=False)\n",
    "highest_rated_imdb = netflix_df.index[0]"
   ]
  },
  {
   "cell_type": "code",
   "execution_count": 62,
   "metadata": {},
   "outputs": [
    {
     "name": "stderr",
     "output_type": "stream",
     "text": [
      "<ipython-input-62-717219f67f22>:1: SettingWithCopyWarning: \n",
      "A value is trying to be set on a copy of a slice from a DataFrame\n",
      "\n",
      "See the caveats in the documentation: https://pandas.pydata.org/pandas-docs/stable/user_guide/indexing.html#returning-a-view-versus-a-copy\n",
      "  netflix_df_dropped.sort_values(by=['RT', 'IMDB'], inplace=True, ascending=False)\n"
     ]
    },
    {
     "data": {
      "text/plain": [
       "'Avatar: The Last Airbender'"
      ]
     },
     "execution_count": 62,
     "metadata": {},
     "output_type": "execute_result"
    }
   ],
   "source": [
    "netflix_df_dropped.sort_values(by=['RT', 'IMDB'], inplace=True, ascending=False)\n",
    "netflix_df_dropped.head(100)\n",
    "highest_rated_rt = netflix_df_dropped.index[0]\n",
    "highest_rated_rt"
   ]
  },
  {
   "cell_type": "code",
   "execution_count": 63,
   "metadata": {},
   "outputs": [
    {
     "data": {
      "text/html": [
       "<div>\n",
       "<style scoped>\n",
       "    .dataframe tbody tr th:only-of-type {\n",
       "        vertical-align: middle;\n",
       "    }\n",
       "\n",
       "    .dataframe tbody tr th {\n",
       "        vertical-align: top;\n",
       "    }\n",
       "\n",
       "    .dataframe thead th {\n",
       "        text-align: right;\n",
       "    }\n",
       "</style>\n",
       "<table border=\"1\" class=\"dataframe\">\n",
       "  <thead>\n",
       "    <tr style=\"text-align: right;\">\n",
       "      <th></th>\n",
       "      <th>Total Number of Shows</th>\n",
       "      <th>Most Popular Age Group</th>\n",
       "      <th>Highest Rated IMDB</th>\n",
       "      <th>IMDB Average</th>\n",
       "      <th>Highest Rated RT</th>\n",
       "      <th>Rotten Tomatoes</th>\n",
       "    </tr>\n",
       "  </thead>\n",
       "  <tbody>\n",
       "    <tr>\n",
       "      <th>0</th>\n",
       "      <td>1931</td>\n",
       "      <td>16+</td>\n",
       "      <td>Breaking Bad</td>\n",
       "      <td>7.16328</td>\n",
       "      <td>Avatar: The Last Airbender</td>\n",
       "      <td>78.322115</td>\n",
       "    </tr>\n",
       "  </tbody>\n",
       "</table>\n",
       "</div>"
      ],
      "text/plain": [
       "   Total Number of Shows Most Popular Age Group Highest Rated IMDB  \\\n",
       "0                   1931                    16+       Breaking Bad   \n",
       "\n",
       "   IMDB Average            Highest Rated RT  Rotten Tomatoes  \n",
       "0       7.16328  Avatar: The Last Airbender        78.322115  "
      ]
     },
     "execution_count": 63,
     "metadata": {},
     "output_type": "execute_result"
    }
   ],
   "source": [
    "netflix = pd.DataFrame({'Total Number of Shows': total_shows,\n",
    "                        'Most Popular Age Group': age_group,\n",
    "                        'Highest Rated IMDB': highest_rated_imdb,\n",
    "                        'IMDB Average': imdb_average,\n",
    "                        'Highest Rated RT': highest_rated_rt,\n",
    "                        'Rotten Tomatoes': rotten_average})\n",
    "netflix"
   ]
  },
  {
   "cell_type": "code",
   "execution_count": 64,
   "metadata": {},
   "outputs": [
    {
     "data": {
      "text/plain": [
       "0       2000-2009\n",
       "1       2010-2020\n",
       "2       1980-1989\n",
       "3       2010-2020\n",
       "4       2000-2009\n",
       "          ...    \n",
       "1926    2010-2020\n",
       "1927    2010-2020\n",
       "1928    2010-2020\n",
       "1929    2010-2020\n",
       "1930    2010-2020\n",
       "Name: Year, Length: 1931, dtype: category\n",
       "Categories (6, object): [1900-1949 < 1950-1979 < 1980-1989 < 1990-1999 < 2000-2009 < 2010-2020]"
      ]
     },
     "execution_count": 64,
     "metadata": {},
     "output_type": "execute_result"
    }
   ],
   "source": [
    "netflix_df = netflix_df.reset_index()\n",
    "bins = [1900, 1949, 1979, 1989, 1999, 2009, 2020]\n",
    "groups = ['1900-1949', '1950-1979', '1980-1989', '1990-1999', '2000-2009', '2010-2020']\n",
    "pd.cut(netflix_df['Year'], bins, labels=groups)"
   ]
  },
  {
   "cell_type": "code",
   "execution_count": 65,
   "metadata": {},
   "outputs": [
    {
     "data": {
      "text/html": [
       "<div>\n",
       "<style scoped>\n",
       "    .dataframe tbody tr th:only-of-type {\n",
       "        vertical-align: middle;\n",
       "    }\n",
       "\n",
       "    .dataframe tbody tr th {\n",
       "        vertical-align: top;\n",
       "    }\n",
       "\n",
       "    .dataframe thead th {\n",
       "        text-align: right;\n",
       "    }\n",
       "</style>\n",
       "<table border=\"1\" class=\"dataframe\">\n",
       "  <thead>\n",
       "    <tr style=\"text-align: right;\">\n",
       "      <th></th>\n",
       "      <th>Title</th>\n",
       "      <th>Year</th>\n",
       "      <th>Age</th>\n",
       "      <th>IMDB</th>\n",
       "      <th>Rotten Tomatoes</th>\n",
       "      <th>Age Range</th>\n",
       "    </tr>\n",
       "  </thead>\n",
       "  <tbody>\n",
       "    <tr>\n",
       "      <th>0</th>\n",
       "      <td>Breaking Bad</td>\n",
       "      <td>2008</td>\n",
       "      <td>18+</td>\n",
       "      <td>9.5</td>\n",
       "      <td>96%</td>\n",
       "      <td>2000-2009</td>\n",
       "    </tr>\n",
       "    <tr>\n",
       "      <th>1</th>\n",
       "      <td>Our Planet</td>\n",
       "      <td>2019</td>\n",
       "      <td>7+</td>\n",
       "      <td>9.3</td>\n",
       "      <td>93%</td>\n",
       "      <td>2010-2020</td>\n",
       "    </tr>\n",
       "    <tr>\n",
       "      <th>2</th>\n",
       "      <td>Ramayan</td>\n",
       "      <td>1987</td>\n",
       "      <td>all</td>\n",
       "      <td>9.3</td>\n",
       "      <td>NaN</td>\n",
       "      <td>1980-1989</td>\n",
       "    </tr>\n",
       "    <tr>\n",
       "      <th>3</th>\n",
       "      <td>Yeh Meri Family</td>\n",
       "      <td>2018</td>\n",
       "      <td>NaN</td>\n",
       "      <td>9.2</td>\n",
       "      <td>NaN</td>\n",
       "      <td>2010-2020</td>\n",
       "    </tr>\n",
       "    <tr>\n",
       "      <th>4</th>\n",
       "      <td>Avatar: The Last Airbender</td>\n",
       "      <td>2005</td>\n",
       "      <td>7+</td>\n",
       "      <td>9.2</td>\n",
       "      <td>100%</td>\n",
       "      <td>2000-2009</td>\n",
       "    </tr>\n",
       "  </tbody>\n",
       "</table>\n",
       "</div>"
      ],
      "text/plain": [
       "                        Title  Year  Age  IMDB Rotten Tomatoes  Age Range\n",
       "0                Breaking Bad  2008  18+   9.5             96%  2000-2009\n",
       "1                  Our Planet  2019   7+   9.3             93%  2010-2020\n",
       "2                     Ramayan  1987  all   9.3             NaN  1980-1989\n",
       "3             Yeh Meri Family  2018  NaN   9.2             NaN  2010-2020\n",
       "4  Avatar: The Last Airbender  2005   7+   9.2            100%  2000-2009"
      ]
     },
     "execution_count": 65,
     "metadata": {},
     "output_type": "execute_result"
    }
   ],
   "source": [
    "netflix_df['Age Range'] = pd.cut(netflix_df['Year'], bins, labels=groups)\n",
    "netflix_df.head()"
   ]
  },
  {
   "cell_type": "code",
   "execution_count": 66,
   "metadata": {},
   "outputs": [
    {
     "data": {
      "text/html": [
       "<div>\n",
       "<style scoped>\n",
       "    .dataframe tbody tr th:only-of-type {\n",
       "        vertical-align: middle;\n",
       "    }\n",
       "\n",
       "    .dataframe tbody tr th {\n",
       "        vertical-align: top;\n",
       "    }\n",
       "\n",
       "    .dataframe thead th {\n",
       "        text-align: right;\n",
       "    }\n",
       "</style>\n",
       "<table border=\"1\" class=\"dataframe\">\n",
       "  <thead>\n",
       "    <tr style=\"text-align: right;\">\n",
       "      <th></th>\n",
       "      <th>Title</th>\n",
       "      <th>Year</th>\n",
       "      <th>Age</th>\n",
       "      <th>IMDB</th>\n",
       "      <th>Rotten Tomatoes</th>\n",
       "      <th>Age Range</th>\n",
       "    </tr>\n",
       "  </thead>\n",
       "  <tbody>\n",
       "    <tr>\n",
       "      <th>0</th>\n",
       "      <td>Breaking Bad</td>\n",
       "      <td>2008</td>\n",
       "      <td>18+</td>\n",
       "      <td>9.5</td>\n",
       "      <td>96%</td>\n",
       "      <td>2000-2009</td>\n",
       "    </tr>\n",
       "    <tr>\n",
       "      <th>1</th>\n",
       "      <td>Our Planet</td>\n",
       "      <td>2019</td>\n",
       "      <td>7+</td>\n",
       "      <td>9.3</td>\n",
       "      <td>93%</td>\n",
       "      <td>2010-2020</td>\n",
       "    </tr>\n",
       "    <tr>\n",
       "      <th>2</th>\n",
       "      <td>Ramayan</td>\n",
       "      <td>1987</td>\n",
       "      <td>all</td>\n",
       "      <td>9.3</td>\n",
       "      <td>NaN</td>\n",
       "      <td>1980-1989</td>\n",
       "    </tr>\n",
       "    <tr>\n",
       "      <th>3</th>\n",
       "      <td>Yeh Meri Family</td>\n",
       "      <td>2018</td>\n",
       "      <td>NaN</td>\n",
       "      <td>9.2</td>\n",
       "      <td>NaN</td>\n",
       "      <td>2010-2020</td>\n",
       "    </tr>\n",
       "    <tr>\n",
       "      <th>4</th>\n",
       "      <td>Avatar: The Last Airbender</td>\n",
       "      <td>2005</td>\n",
       "      <td>7+</td>\n",
       "      <td>9.2</td>\n",
       "      <td>100%</td>\n",
       "      <td>2000-2009</td>\n",
       "    </tr>\n",
       "    <tr>\n",
       "      <th>...</th>\n",
       "      <td>...</td>\n",
       "      <td>...</td>\n",
       "      <td>...</td>\n",
       "      <td>...</td>\n",
       "      <td>...</td>\n",
       "      <td>...</td>\n",
       "    </tr>\n",
       "    <tr>\n",
       "      <th>1753</th>\n",
       "      <td>House Doctor</td>\n",
       "      <td>1998</td>\n",
       "      <td>NaN</td>\n",
       "      <td>4.8</td>\n",
       "      <td>NaN</td>\n",
       "      <td>1990-1999</td>\n",
       "    </tr>\n",
       "    <tr>\n",
       "      <th>1766</th>\n",
       "      <td>Black Crows</td>\n",
       "      <td>1983</td>\n",
       "      <td>NaN</td>\n",
       "      <td>4.4</td>\n",
       "      <td>NaN</td>\n",
       "      <td>1980-1989</td>\n",
       "    </tr>\n",
       "    <tr>\n",
       "      <th>1767</th>\n",
       "      <td>Ninja Turtles: The Next Mutation</td>\n",
       "      <td>1997</td>\n",
       "      <td>7+</td>\n",
       "      <td>4.4</td>\n",
       "      <td>NaN</td>\n",
       "      <td>1990-1999</td>\n",
       "    </tr>\n",
       "    <tr>\n",
       "      <th>1857</th>\n",
       "      <td>Born To Explore</td>\n",
       "      <td>1914</td>\n",
       "      <td>NaN</td>\n",
       "      <td>NaN</td>\n",
       "      <td>NaN</td>\n",
       "      <td>1900-1949</td>\n",
       "    </tr>\n",
       "    <tr>\n",
       "      <th>1865</th>\n",
       "      <td>El Chavo</td>\n",
       "      <td>1973</td>\n",
       "      <td>NaN</td>\n",
       "      <td>NaN</td>\n",
       "      <td>NaN</td>\n",
       "      <td>1950-1979</td>\n",
       "    </tr>\n",
       "  </tbody>\n",
       "</table>\n",
       "<p>164 rows × 6 columns</p>\n",
       "</div>"
      ],
      "text/plain": [
       "                                 Title  Year  Age  IMDB Rotten Tomatoes  \\\n",
       "0                         Breaking Bad  2008  18+   9.5             96%   \n",
       "1                           Our Planet  2019   7+   9.3             93%   \n",
       "2                              Ramayan  1987  all   9.3             NaN   \n",
       "3                      Yeh Meri Family  2018  NaN   9.2             NaN   \n",
       "4           Avatar: The Last Airbender  2005   7+   9.2            100%   \n",
       "...                                ...   ...  ...   ...             ...   \n",
       "1753                      House Doctor  1998  NaN   4.8             NaN   \n",
       "1766                       Black Crows  1983  NaN   4.4             NaN   \n",
       "1767  Ninja Turtles: The Next Mutation  1997   7+   4.4             NaN   \n",
       "1857                   Born To Explore  1914  NaN   NaN             NaN   \n",
       "1865                          El Chavo  1973  NaN   NaN             NaN   \n",
       "\n",
       "      Age Range  \n",
       "0     2000-2009  \n",
       "1     2010-2020  \n",
       "2     1980-1989  \n",
       "3     2010-2020  \n",
       "4     2000-2009  \n",
       "...         ...  \n",
       "1753  1990-1999  \n",
       "1766  1980-1989  \n",
       "1767  1990-1999  \n",
       "1857  1900-1949  \n",
       "1865  1950-1979  \n",
       "\n",
       "[164 rows x 6 columns]"
      ]
     },
     "execution_count": 66,
     "metadata": {},
     "output_type": "execute_result"
    }
   ],
   "source": [
    "age_range_df = netflix_df.groupby(\"Age Range\")\n",
    "age_range_df.head(50)"
   ]
  },
  {
   "cell_type": "code",
   "execution_count": 67,
   "metadata": {},
   "outputs": [
    {
     "data": {
      "text/plain": [
       "Age Range\n",
       "1900-1949       1\n",
       "1950-1979      10\n",
       "1980-1989      18\n",
       "1990-1999      35\n",
       "2000-2009     181\n",
       "2010-2020    1686\n",
       "Name: Age Range, dtype: int64"
      ]
     },
     "execution_count": 67,
     "metadata": {},
     "output_type": "execute_result"
    }
   ],
   "source": [
    "ranges = age_range_df[\"Age Range\"].count()\n",
    "ranges"
   ]
  },
  {
   "cell_type": "code",
   "execution_count": 68,
   "metadata": {},
   "outputs": [
    {
     "data": {
      "image/png": "[encoded data removed]",
      "text/plain": [
       "<Figure size 432x288 with 1 Axes>"
      ]
     },
     "metadata": {
      "needs_background": "light"
     },
     "output_type": "display_data"
    }
   ],
   "source": [
    "plt.bar(groups, ranges);\n",
    "plt.title('Era of Movies Created on Netflix');\n",
    "plt.xticks(rotation=50);"
   ]
  }
 ],
 "metadata": {
  "kernelspec": {
   "display_name": "Python 3",
   "language": "python",
   "name": "python3"
  },
  "language_info": {
   "codemirror_mode": {
    "name": "ipython",
    "version": 3
   },
   "file_extension": ".py",
   "mimetype": "text/x-python",
   "name": "python",
   "nbconvert_exporter": "python",
   "pygments_lexer": "ipython3",
   "version": "3.8.3"
  }
 },
 "nbformat": 4,
 "nbformat_minor": 4
}
