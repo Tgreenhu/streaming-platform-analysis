{
 "cells": [
  {
   "cell_type": "code",
   "execution_count": 3,
   "metadata": {},
   "outputs": [],
   "source": [
    "import os\n",
    "import csv\n",
    "import pandas as pd\n",
    "import matplotlib.pyplot as plt"
   ]
  },
  {
   "cell_type": "code",
   "execution_count": 4,
   "metadata": {},
   "outputs": [
    {
     "data": {
      "text/html": [
       "<div>\n",
       "<style scoped>\n",
       "    .dataframe tbody tr th:only-of-type {\n",
       "        vertical-align: middle;\n",
       "    }\n",
       "\n",
       "    .dataframe tbody tr th {\n",
       "        vertical-align: top;\n",
       "    }\n",
       "\n",
       "    .dataframe thead th {\n",
       "        text-align: right;\n",
       "    }\n",
       "</style>\n",
       "<table border=\"1\" class=\"dataframe\">\n",
       "  <thead>\n",
       "    <tr style=\"text-align: right;\">\n",
       "      <th></th>\n",
       "      <th>Year</th>\n",
       "      <th>Age</th>\n",
       "      <th>IMDB</th>\n",
       "      <th>Rotten Tomatoes</th>\n",
       "    </tr>\n",
       "    <tr>\n",
       "      <th>Title</th>\n",
       "      <th></th>\n",
       "      <th></th>\n",
       "      <th></th>\n",
       "      <th></th>\n",
       "    </tr>\n",
       "  </thead>\n",
       "  <tbody>\n",
       "    <tr>\n",
       "      <th>Attack on Titan</th>\n",
       "      <td>2013</td>\n",
       "      <td>16+</td>\n",
       "      <td>8.8</td>\n",
       "      <td>94%</td>\n",
       "    </tr>\n",
       "    <tr>\n",
       "      <th>Fullmetal Alchemist: Brotherhood</th>\n",
       "      <td>2009</td>\n",
       "      <td>18+</td>\n",
       "      <td>9.1</td>\n",
       "      <td>100%</td>\n",
       "    </tr>\n",
       "    <tr>\n",
       "      <th>Community</th>\n",
       "      <td>2009</td>\n",
       "      <td>7+</td>\n",
       "      <td>8.5</td>\n",
       "      <td>88%</td>\n",
       "    </tr>\n",
       "    <tr>\n",
       "      <th>Parks and Recreation</th>\n",
       "      <td>2009</td>\n",
       "      <td>16+</td>\n",
       "      <td>8.6</td>\n",
       "      <td>93%</td>\n",
       "    </tr>\n",
       "    <tr>\n",
       "      <th>Twin Peaks</th>\n",
       "      <td>1990</td>\n",
       "      <td>18+</td>\n",
       "      <td>8.8</td>\n",
       "      <td>89%</td>\n",
       "    </tr>\n",
       "  </tbody>\n",
       "</table>\n",
       "</div>"
      ],
      "text/plain": [
       "                                  Year  Age  IMDB Rotten Tomatoes\n",
       "Title                                                            \n",
       "Attack on Titan                   2013  16+   8.8             94%\n",
       "Fullmetal Alchemist: Brotherhood  2009  18+   9.1            100%\n",
       "Community                         2009   7+   8.5             88%\n",
       "Parks and Recreation              2009  16+   8.6             93%\n",
       "Twin Peaks                        1990  18+   8.8             89%"
      ]
     },
     "execution_count": 4,
     "metadata": {},
     "output_type": "execute_result"
    }
   ],
   "source": [
    "hulu_df = pd.read_csv(\"Resources/hulu.csv\")\n",
    "hulu_df = hulu_df.set_index('Title')\n",
    "hulu_df.head()"
   ]
  },
  {
   "cell_type": "code",
   "execution_count": 5,
   "metadata": {},
   "outputs": [
    {
     "data": {
      "text/plain": [
       "7.0611074489123276"
      ]
     },
     "execution_count": 5,
     "metadata": {},
     "output_type": "execute_result"
    }
   ],
   "source": [
    "imdb_average = hulu_df['IMDB'].mean()\n",
    "imdb_average"
   ]
  },
  {
   "cell_type": "code",
   "execution_count": 6,
   "metadata": {},
   "outputs": [
    {
     "data": {
      "text/html": [
       "<div>\n",
       "<style scoped>\n",
       "    .dataframe tbody tr th:only-of-type {\n",
       "        vertical-align: middle;\n",
       "    }\n",
       "\n",
       "    .dataframe tbody tr th {\n",
       "        vertical-align: top;\n",
       "    }\n",
       "\n",
       "    .dataframe thead th {\n",
       "        text-align: right;\n",
       "    }\n",
       "</style>\n",
       "<table border=\"1\" class=\"dataframe\">\n",
       "  <thead>\n",
       "    <tr style=\"text-align: right;\">\n",
       "      <th></th>\n",
       "      <th>Year</th>\n",
       "      <th>Age</th>\n",
       "      <th>IMDB</th>\n",
       "      <th>Rotten Tomatoes</th>\n",
       "    </tr>\n",
       "    <tr>\n",
       "      <th>Title</th>\n",
       "      <th></th>\n",
       "      <th></th>\n",
       "      <th></th>\n",
       "      <th></th>\n",
       "    </tr>\n",
       "  </thead>\n",
       "  <tbody>\n",
       "    <tr>\n",
       "      <th>Attack on Titan</th>\n",
       "      <td>2013</td>\n",
       "      <td>16+</td>\n",
       "      <td>8.8</td>\n",
       "      <td>94%</td>\n",
       "    </tr>\n",
       "    <tr>\n",
       "      <th>Fullmetal Alchemist: Brotherhood</th>\n",
       "      <td>2009</td>\n",
       "      <td>18+</td>\n",
       "      <td>9.1</td>\n",
       "      <td>100%</td>\n",
       "    </tr>\n",
       "    <tr>\n",
       "      <th>Community</th>\n",
       "      <td>2009</td>\n",
       "      <td>7+</td>\n",
       "      <td>8.5</td>\n",
       "      <td>88%</td>\n",
       "    </tr>\n",
       "    <tr>\n",
       "      <th>Parks and Recreation</th>\n",
       "      <td>2009</td>\n",
       "      <td>16+</td>\n",
       "      <td>8.6</td>\n",
       "      <td>93%</td>\n",
       "    </tr>\n",
       "    <tr>\n",
       "      <th>Twin Peaks</th>\n",
       "      <td>1990</td>\n",
       "      <td>18+</td>\n",
       "      <td>8.8</td>\n",
       "      <td>89%</td>\n",
       "    </tr>\n",
       "  </tbody>\n",
       "</table>\n",
       "</div>"
      ],
      "text/plain": [
       "                                  Year  Age  IMDB Rotten Tomatoes\n",
       "Title                                                            \n",
       "Attack on Titan                   2013  16+   8.8             94%\n",
       "Fullmetal Alchemist: Brotherhood  2009  18+   9.1            100%\n",
       "Community                         2009   7+   8.5             88%\n",
       "Parks and Recreation              2009  16+   8.6             93%\n",
       "Twin Peaks                        1990  18+   8.8             89%"
      ]
     },
     "execution_count": 6,
     "metadata": {},
     "output_type": "execute_result"
    }
   ],
   "source": [
    "hulu_df_dropped = hulu_df.dropna()\n",
    "hulu_df_dropped.head()"
   ]
  },
  {
   "cell_type": "code",
   "execution_count": 7,
   "metadata": {},
   "outputs": [
    {
     "name": "stderr",
     "output_type": "stream",
     "text": [
      "<ipython-input-7-a09ab8a31142>:1: SettingWithCopyWarning: \n",
      "A value is trying to be set on a copy of a slice from a DataFrame.\n",
      "Try using .loc[row_indexer,col_indexer] = value instead\n",
      "\n",
      "See the caveats in the documentation: https://pandas.pydata.org/pandas-docs/stable/user_guide/indexing.html#returning-a-view-versus-a-copy\n",
      "  hulu_df_dropped['RT'] = hulu_df_dropped['Rotten Tomatoes'].str.extract('(\\d+)').astype(int)\n"
     ]
    },
    {
     "data": {
      "text/html": [
       "<div>\n",
       "<style scoped>\n",
       "    .dataframe tbody tr th:only-of-type {\n",
       "        vertical-align: middle;\n",
       "    }\n",
       "\n",
       "    .dataframe tbody tr th {\n",
       "        vertical-align: top;\n",
       "    }\n",
       "\n",
       "    .dataframe thead th {\n",
       "        text-align: right;\n",
       "    }\n",
       "</style>\n",
       "<table border=\"1\" class=\"dataframe\">\n",
       "  <thead>\n",
       "    <tr style=\"text-align: right;\">\n",
       "      <th></th>\n",
       "      <th>Year</th>\n",
       "      <th>Age</th>\n",
       "      <th>IMDB</th>\n",
       "      <th>Rotten Tomatoes</th>\n",
       "      <th>RT</th>\n",
       "    </tr>\n",
       "    <tr>\n",
       "      <th>Title</th>\n",
       "      <th></th>\n",
       "      <th></th>\n",
       "      <th></th>\n",
       "      <th></th>\n",
       "      <th></th>\n",
       "    </tr>\n",
       "  </thead>\n",
       "  <tbody>\n",
       "    <tr>\n",
       "      <th>Attack on Titan</th>\n",
       "      <td>2013</td>\n",
       "      <td>16+</td>\n",
       "      <td>8.8</td>\n",
       "      <td>94%</td>\n",
       "      <td>94</td>\n",
       "    </tr>\n",
       "    <tr>\n",
       "      <th>Fullmetal Alchemist: Brotherhood</th>\n",
       "      <td>2009</td>\n",
       "      <td>18+</td>\n",
       "      <td>9.1</td>\n",
       "      <td>100%</td>\n",
       "      <td>100</td>\n",
       "    </tr>\n",
       "    <tr>\n",
       "      <th>Community</th>\n",
       "      <td>2009</td>\n",
       "      <td>7+</td>\n",
       "      <td>8.5</td>\n",
       "      <td>88%</td>\n",
       "      <td>88</td>\n",
       "    </tr>\n",
       "    <tr>\n",
       "      <th>Parks and Recreation</th>\n",
       "      <td>2009</td>\n",
       "      <td>16+</td>\n",
       "      <td>8.6</td>\n",
       "      <td>93%</td>\n",
       "      <td>93</td>\n",
       "    </tr>\n",
       "    <tr>\n",
       "      <th>Twin Peaks</th>\n",
       "      <td>1990</td>\n",
       "      <td>18+</td>\n",
       "      <td>8.8</td>\n",
       "      <td>89%</td>\n",
       "      <td>89</td>\n",
       "    </tr>\n",
       "  </tbody>\n",
       "</table>\n",
       "</div>"
      ],
      "text/plain": [
       "                                  Year  Age  IMDB Rotten Tomatoes   RT\n",
       "Title                                                                 \n",
       "Attack on Titan                   2013  16+   8.8             94%   94\n",
       "Fullmetal Alchemist: Brotherhood  2009  18+   9.1            100%  100\n",
       "Community                         2009   7+   8.5             88%   88\n",
       "Parks and Recreation              2009  16+   8.6             93%   93\n",
       "Twin Peaks                        1990  18+   8.8             89%   89"
      ]
     },
     "execution_count": 7,
     "metadata": {},
     "output_type": "execute_result"
    }
   ],
   "source": [
    "hulu_df_dropped['RT'] = hulu_df_dropped['Rotten Tomatoes'].str.extract('(\\d+)').astype(int)\n",
    "hulu_df_dropped.head()"
   ]
  },
  {
   "cell_type": "code",
   "execution_count": 8,
   "metadata": {},
   "outputs": [],
   "source": [
    "rotten_average = hulu_df_dropped['RT'].mean()\n",
    "age_group = hulu_df['Age'].mode()\n",
    "total_shows = len(hulu_df)\n",
    "title = hulu_df.index.to_list()"
   ]
  },
  {
   "cell_type": "code",
   "execution_count": 9,
   "metadata": {},
   "outputs": [],
   "source": [
    "hulu_df.sort_values(by=['IMDB'], inplace=True, ascending=False)\n",
    "highest_rated_imdb = hulu_df.index[0]"
   ]
  },
  {
   "cell_type": "code",
   "execution_count": 10,
   "metadata": {},
   "outputs": [
    {
     "name": "stderr",
     "output_type": "stream",
     "text": [
      "<ipython-input-10-4baa30d3b3d2>:1: SettingWithCopyWarning: \n",
      "A value is trying to be set on a copy of a slice from a DataFrame\n",
      "\n",
      "See the caveats in the documentation: https://pandas.pydata.org/pandas-docs/stable/user_guide/indexing.html#returning-a-view-versus-a-copy\n",
      "  hulu_df_dropped.sort_values(by=['RT', 'IMDB'], inplace=True, ascending=False)\n"
     ]
    },
    {
     "data": {
      "text/plain": [
       "'Fullmetal Alchemist: Brotherhood'"
      ]
     },
     "execution_count": 10,
     "metadata": {},
     "output_type": "execute_result"
    }
   ],
   "source": [
    "hulu_df_dropped.sort_values(by=['RT', 'IMDB'], inplace=True, ascending=False)\n",
    "hulu_df_dropped.head(100)\n",
    "highest_rated_rt = hulu_df_dropped.index[0]\n",
    "highest_rated_rt"
   ]
  },
  {
   "cell_type": "code",
   "execution_count": 11,
   "metadata": {},
   "outputs": [
    {
     "data": {
      "text/html": [
       "<div>\n",
       "<style scoped>\n",
       "    .dataframe tbody tr th:only-of-type {\n",
       "        vertical-align: middle;\n",
       "    }\n",
       "\n",
       "    .dataframe tbody tr th {\n",
       "        vertical-align: top;\n",
       "    }\n",
       "\n",
       "    .dataframe thead th {\n",
       "        text-align: right;\n",
       "    }\n",
       "</style>\n",
       "<table border=\"1\" class=\"dataframe\">\n",
       "  <thead>\n",
       "    <tr style=\"text-align: right;\">\n",
       "      <th></th>\n",
       "      <th>Total Number of Shows</th>\n",
       "      <th>Most Popular Age Group</th>\n",
       "      <th>Highest Rated IMDB</th>\n",
       "      <th>IMDB Average</th>\n",
       "      <th>Highest Rated RT</th>\n",
       "      <th>Rotten Tomatoes</th>\n",
       "    </tr>\n",
       "  </thead>\n",
       "  <tbody>\n",
       "    <tr>\n",
       "      <th>0</th>\n",
       "      <td>1754</td>\n",
       "      <td>16+</td>\n",
       "      <td>Destiny</td>\n",
       "      <td>7.061107</td>\n",
       "      <td>Fullmetal Alchemist: Brotherhood</td>\n",
       "      <td>78.294286</td>\n",
       "    </tr>\n",
       "  </tbody>\n",
       "</table>\n",
       "</div>"
      ],
      "text/plain": [
       "   Total Number of Shows Most Popular Age Group Highest Rated IMDB  \\\n",
       "0                   1754                    16+            Destiny   \n",
       "\n",
       "   IMDB Average                  Highest Rated RT  Rotten Tomatoes  \n",
       "0      7.061107  Fullmetal Alchemist: Brotherhood        78.294286  "
      ]
     },
     "execution_count": 11,
     "metadata": {},
     "output_type": "execute_result"
    }
   ],
   "source": [
    "hulu = pd.DataFrame({'Total Number of Shows': total_shows,\n",
    "                        'Most Popular Age Group': age_group,\n",
    "                        'Highest Rated IMDB': highest_rated_imdb,\n",
    "                        'IMDB Average': imdb_average,\n",
    "                        'Highest Rated RT': highest_rated_rt,\n",
    "                        'Rotten Tomatoes': rotten_average})\n",
    "hulu"
   ]
  },
  {
   "cell_type": "code",
   "execution_count": 12,
   "metadata": {},
   "outputs": [
    {
     "data": {
      "text/plain": [
       "0       2010-2020\n",
       "1       2010-2020\n",
       "2       1980-1989\n",
       "3       2010-2020\n",
       "4       2010-2020\n",
       "          ...    \n",
       "1749    2010-2020\n",
       "1750    2010-2020\n",
       "1751    2010-2020\n",
       "1752    2010-2020\n",
       "1753    2010-2020\n",
       "Name: Year, Length: 1754, dtype: category\n",
       "Categories (6, object): [1900-1949 < 1950-1979 < 1980-1989 < 1990-1999 < 2000-2009 < 2010-2020]"
      ]
     },
     "execution_count": 12,
     "metadata": {},
     "output_type": "execute_result"
    }
   ],
   "source": [
    "hulu_df = hulu_df.reset_index()\n",
    "bins = [1900, 1949, 1979, 1989, 1999, 2009, 2020]\n",
    "groups = ['1900-1949', '1950-1979', '1980-1989', '1990-1999', '2000-2009', '2010-2020']\n",
    "pd.cut(hulu_df['Year'], bins, labels=groups)"
   ]
  },
  {
   "cell_type": "code",
   "execution_count": 13,
   "metadata": {},
   "outputs": [
    {
     "data": {
      "text/html": [
       "<div>\n",
       "<style scoped>\n",
       "    .dataframe tbody tr th:only-of-type {\n",
       "        vertical-align: middle;\n",
       "    }\n",
       "\n",
       "    .dataframe tbody tr th {\n",
       "        vertical-align: top;\n",
       "    }\n",
       "\n",
       "    .dataframe thead th {\n",
       "        text-align: right;\n",
       "    }\n",
       "</style>\n",
       "<table border=\"1\" class=\"dataframe\">\n",
       "  <thead>\n",
       "    <tr style=\"text-align: right;\">\n",
       "      <th></th>\n",
       "      <th>Title</th>\n",
       "      <th>Year</th>\n",
       "      <th>Age</th>\n",
       "      <th>IMDB</th>\n",
       "      <th>Rotten Tomatoes</th>\n",
       "      <th>Age Range</th>\n",
       "    </tr>\n",
       "  </thead>\n",
       "  <tbody>\n",
       "    <tr>\n",
       "      <th>0</th>\n",
       "      <td>Destiny</td>\n",
       "      <td>2014</td>\n",
       "      <td>NaN</td>\n",
       "      <td>9.6</td>\n",
       "      <td>NaN</td>\n",
       "      <td>2010-2020</td>\n",
       "    </tr>\n",
       "    <tr>\n",
       "      <th>1</th>\n",
       "      <td>Hungry Henry</td>\n",
       "      <td>2014</td>\n",
       "      <td>NaN</td>\n",
       "      <td>9.5</td>\n",
       "      <td>NaN</td>\n",
       "      <td>2010-2020</td>\n",
       "    </tr>\n",
       "    <tr>\n",
       "      <th>2</th>\n",
       "      <td>The Joy of Painting</td>\n",
       "      <td>1983</td>\n",
       "      <td>all</td>\n",
       "      <td>9.4</td>\n",
       "      <td>NaN</td>\n",
       "      <td>1980-1989</td>\n",
       "    </tr>\n",
       "    <tr>\n",
       "      <th>3</th>\n",
       "      <td>Rick and Morty</td>\n",
       "      <td>2013</td>\n",
       "      <td>18+</td>\n",
       "      <td>9.2</td>\n",
       "      <td>94%</td>\n",
       "      <td>2010-2020</td>\n",
       "    </tr>\n",
       "    <tr>\n",
       "      <th>4</th>\n",
       "      <td>Leah Remini: Scientology and the Aftermath</td>\n",
       "      <td>2016</td>\n",
       "      <td>16+</td>\n",
       "      <td>9.1</td>\n",
       "      <td>NaN</td>\n",
       "      <td>2010-2020</td>\n",
       "    </tr>\n",
       "  </tbody>\n",
       "</table>\n",
       "</div>"
      ],
      "text/plain": [
       "                                        Title  Year  Age  IMDB  \\\n",
       "0                                     Destiny  2014  NaN   9.6   \n",
       "1                                Hungry Henry  2014  NaN   9.5   \n",
       "2                         The Joy of Painting  1983  all   9.4   \n",
       "3                              Rick and Morty  2013  18+   9.2   \n",
       "4  Leah Remini: Scientology and the Aftermath  2016  16+   9.1   \n",
       "\n",
       "  Rotten Tomatoes  Age Range  \n",
       "0             NaN  2010-2020  \n",
       "1             NaN  2010-2020  \n",
       "2             NaN  1980-1989  \n",
       "3             94%  2010-2020  \n",
       "4             NaN  2010-2020  "
      ]
     },
     "execution_count": 13,
     "metadata": {},
     "output_type": "execute_result"
    }
   ],
   "source": [
    "hulu_df['Age Range'] = pd.cut(hulu_df['Year'], bins, labels=groups)\n",
    "hulu_df.head()"
   ]
  },
  {
   "cell_type": "code",
   "execution_count": 14,
   "metadata": {},
   "outputs": [
    {
     "data": {
      "text/html": [
       "<div>\n",
       "<style scoped>\n",
       "    .dataframe tbody tr th:only-of-type {\n",
       "        vertical-align: middle;\n",
       "    }\n",
       "\n",
       "    .dataframe tbody tr th {\n",
       "        vertical-align: top;\n",
       "    }\n",
       "\n",
       "    .dataframe thead th {\n",
       "        text-align: right;\n",
       "    }\n",
       "</style>\n",
       "<table border=\"1\" class=\"dataframe\">\n",
       "  <thead>\n",
       "    <tr style=\"text-align: right;\">\n",
       "      <th></th>\n",
       "      <th>Title</th>\n",
       "      <th>Year</th>\n",
       "      <th>Age</th>\n",
       "      <th>IMDB</th>\n",
       "      <th>Rotten Tomatoes</th>\n",
       "      <th>Age Range</th>\n",
       "    </tr>\n",
       "  </thead>\n",
       "  <tbody>\n",
       "    <tr>\n",
       "      <th>0</th>\n",
       "      <td>Destiny</td>\n",
       "      <td>2014</td>\n",
       "      <td>NaN</td>\n",
       "      <td>9.6</td>\n",
       "      <td>NaN</td>\n",
       "      <td>2010-2020</td>\n",
       "    </tr>\n",
       "    <tr>\n",
       "      <th>1</th>\n",
       "      <td>Hungry Henry</td>\n",
       "      <td>2014</td>\n",
       "      <td>NaN</td>\n",
       "      <td>9.5</td>\n",
       "      <td>NaN</td>\n",
       "      <td>2010-2020</td>\n",
       "    </tr>\n",
       "    <tr>\n",
       "      <th>2</th>\n",
       "      <td>The Joy of Painting</td>\n",
       "      <td>1983</td>\n",
       "      <td>all</td>\n",
       "      <td>9.4</td>\n",
       "      <td>NaN</td>\n",
       "      <td>1980-1989</td>\n",
       "    </tr>\n",
       "    <tr>\n",
       "      <th>3</th>\n",
       "      <td>Rick and Morty</td>\n",
       "      <td>2013</td>\n",
       "      <td>18+</td>\n",
       "      <td>9.2</td>\n",
       "      <td>94%</td>\n",
       "      <td>2010-2020</td>\n",
       "    </tr>\n",
       "    <tr>\n",
       "      <th>4</th>\n",
       "      <td>Leah Remini: Scientology and the Aftermath</td>\n",
       "      <td>2016</td>\n",
       "      <td>16+</td>\n",
       "      <td>9.1</td>\n",
       "      <td>NaN</td>\n",
       "      <td>2010-2020</td>\n",
       "    </tr>\n",
       "    <tr>\n",
       "      <th>...</th>\n",
       "      <td>...</td>\n",
       "      <td>...</td>\n",
       "      <td>...</td>\n",
       "      <td>...</td>\n",
       "      <td>...</td>\n",
       "      <td>...</td>\n",
       "    </tr>\n",
       "    <tr>\n",
       "      <th>1367</th>\n",
       "      <td>Showtime at the Apollo</td>\n",
       "      <td>1987</td>\n",
       "      <td>NaN</td>\n",
       "      <td>5.5</td>\n",
       "      <td>NaN</td>\n",
       "      <td>1980-1989</td>\n",
       "    </tr>\n",
       "    <tr>\n",
       "      <th>1371</th>\n",
       "      <td>This Week</td>\n",
       "      <td>1981</td>\n",
       "      <td>7+</td>\n",
       "      <td>5.5</td>\n",
       "      <td>NaN</td>\n",
       "      <td>1980-1989</td>\n",
       "    </tr>\n",
       "    <tr>\n",
       "      <th>1388</th>\n",
       "      <td>The Munsters Today</td>\n",
       "      <td>1988</td>\n",
       "      <td>NaN</td>\n",
       "      <td>5.3</td>\n",
       "      <td>NaN</td>\n",
       "      <td>1980-1989</td>\n",
       "    </tr>\n",
       "    <tr>\n",
       "      <th>1394</th>\n",
       "      <td>Baywatch</td>\n",
       "      <td>1989</td>\n",
       "      <td>7+</td>\n",
       "      <td>5.3</td>\n",
       "      <td>NaN</td>\n",
       "      <td>1980-1989</td>\n",
       "    </tr>\n",
       "    <tr>\n",
       "      <th>1538</th>\n",
       "      <td>The Little Rascals Classics</td>\n",
       "      <td>1931</td>\n",
       "      <td>NaN</td>\n",
       "      <td>NaN</td>\n",
       "      <td>NaN</td>\n",
       "      <td>1900-1949</td>\n",
       "    </tr>\n",
       "  </tbody>\n",
       "</table>\n",
       "<p>252 rows × 6 columns</p>\n",
       "</div>"
      ],
      "text/plain": [
       "                                           Title  Year  Age  IMDB  \\\n",
       "0                                        Destiny  2014  NaN   9.6   \n",
       "1                                   Hungry Henry  2014  NaN   9.5   \n",
       "2                            The Joy of Painting  1983  all   9.4   \n",
       "3                                 Rick and Morty  2013  18+   9.2   \n",
       "4     Leah Remini: Scientology and the Aftermath  2016  16+   9.1   \n",
       "...                                          ...   ...  ...   ...   \n",
       "1367                      Showtime at the Apollo  1987  NaN   5.5   \n",
       "1371                                   This Week  1981   7+   5.5   \n",
       "1388                          The Munsters Today  1988  NaN   5.3   \n",
       "1394                                    Baywatch  1989   7+   5.3   \n",
       "1538                 The Little Rascals Classics  1931  NaN   NaN   \n",
       "\n",
       "     Rotten Tomatoes  Age Range  \n",
       "0                NaN  2010-2020  \n",
       "1                NaN  2010-2020  \n",
       "2                NaN  1980-1989  \n",
       "3                94%  2010-2020  \n",
       "4                NaN  2010-2020  \n",
       "...              ...        ...  \n",
       "1367             NaN  1980-1989  \n",
       "1371             NaN  1980-1989  \n",
       "1388             NaN  1980-1989  \n",
       "1394             NaN  1980-1989  \n",
       "1538             NaN  1900-1949  \n",
       "\n",
       "[252 rows x 6 columns]"
      ]
     },
     "execution_count": 14,
     "metadata": {},
     "output_type": "execute_result"
    }
   ],
   "source": [
    "age_range_df = hulu_df.groupby(\"Age Range\")\n",
    "age_range_df.head(50)"
   ]
  },
  {
   "cell_type": "code",
   "execution_count": 15,
   "metadata": {},
   "outputs": [
    {
     "data": {
      "text/plain": [
       "Age Range\n",
       "1900-1949       4\n",
       "1950-1979      58\n",
       "1980-1989      48\n",
       "1990-1999     105\n",
       "2000-2009     334\n",
       "2010-2020    1205\n",
       "Name: Age Range, dtype: int64"
      ]
     },
     "execution_count": 15,
     "metadata": {},
     "output_type": "execute_result"
    }
   ],
   "source": [
    "ranges = age_range_df[\"Age Range\"].count()\n",
    "ranges"
   ]
  },
  {
   "cell_type": "code",
   "execution_count": 16,
   "metadata": {},
   "outputs": [
    {
     "data": {
      "image/png": "[encoded data removed]",
      "text/plain": [
       "<Figure size 432x288 with 1 Axes>"
      ]
     },
     "metadata": {
      "needs_background": "light"
     },
     "output_type": "display_data"
    }
   ],
   "source": [
    "plt.bar(groups, ranges);\n",
    "plt.title('Era of Movies Created on Hulu');\n",
    "plt.xticks(rotation=50);"
   ]
  },
  {
   "cell_type": "code",
   "execution_count": null,
   "metadata": {},
   "outputs": [],
   "source": []
  }
 ],
 "metadata": {
  "kernelspec": {
   "display_name": "Python 3",
   "language": "python",
   "name": "python3"
  },
  "language_info": {
   "codemirror_mode": {
    "name": "ipython",
    "version": 3
   },
   "file_extension": ".py",
   "mimetype": "text/x-python",
   "name": "python",
   "nbconvert_exporter": "python",
   "pygments_lexer": "ipython3",
   "version": "3.8.3"
  }
 },
 "nbformat": 4,
 "nbformat_minor": 4
}
